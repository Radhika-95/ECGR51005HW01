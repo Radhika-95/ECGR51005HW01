{
  "nbformat": 4,
  "nbformat_minor": 0,
  "metadata": {
    "colab": {
      "provenance": []
    },
    "kernelspec": {
      "name": "python3",
      "display_name": "Python 3"
    },
    "language_info": {
      "name": "python"
    }
  },
  "cells": [
    {
      "cell_type": "code",
      "source": [
        "import numpy as np \n",
        "import pandas as pd \n",
        "import matplotlib.pyplot as plt \n",
        "from sklearn.model_selection import train_test_split"
      ],
      "metadata": {
        "id": "503hAdaN6BZA"
      },
      "execution_count": 1,
      "outputs": []
    },
    {
      "cell_type": "code",
      "source": [
        "df = pd.read_csv('/content/sample_data/Housing.csv')\n",
        "print(df)\n",
        "df.head() # To get first n rows from the dataset default value of n is 5 \n",
        "M=len(df) \n",
        "M"
      ],
      "metadata": {
        "colab": {
          "base_uri": "https://localhost:8080/"
        },
        "id": "iRZAvffz6CYW",
        "outputId": "b5a774c8-1c8c-4cc1-d455-9c6a696f5cd7"
      },
      "execution_count": 2,
      "outputs": [
        {
          "output_type": "stream",
          "name": "stdout",
          "text": [
            "        price  area  bedrooms  bathrooms  stories mainroad guestroom basement  \\\n",
            "0    13300000  7420         4          2        3      yes        no       no   \n",
            "1    12250000  8960         4          4        4      yes        no       no   \n",
            "2    12250000  9960         3          2        2      yes        no      yes   \n",
            "3    12215000  7500         4          2        2      yes        no      yes   \n",
            "4    11410000  7420         4          1        2      yes       yes      yes   \n",
            "..        ...   ...       ...        ...      ...      ...       ...      ...   \n",
            "540   1820000  3000         2          1        1      yes        no      yes   \n",
            "541   1767150  2400         3          1        1       no        no       no   \n",
            "542   1750000  3620         2          1        1      yes        no       no   \n",
            "543   1750000  2910         3          1        1       no        no       no   \n",
            "544   1750000  3850         3          1        2      yes        no       no   \n",
            "\n",
            "    hotwaterheating airconditioning  parking prefarea furnishingstatus  \n",
            "0                no             yes        2      yes        furnished  \n",
            "1                no             yes        3       no        furnished  \n",
            "2                no              no        2      yes   semi-furnished  \n",
            "3                no             yes        3      yes        furnished  \n",
            "4                no             yes        2       no        furnished  \n",
            "..              ...             ...      ...      ...              ...  \n",
            "540              no              no        2       no      unfurnished  \n",
            "541              no              no        0       no   semi-furnished  \n",
            "542              no              no        0       no      unfurnished  \n",
            "543              no              no        0       no        furnished  \n",
            "544              no              no        0       no      unfurnished  \n",
            "\n",
            "[545 rows x 13 columns]\n"
          ]
        },
        {
          "output_type": "execute_result",
          "data": {
            "text/plain": [
              "545"
            ]
          },
          "metadata": {},
          "execution_count": 2
        }
      ]
    },
    {
      "cell_type": "code",
      "source": [
        "z= df.iloc[:,[0,1,2,3,4,10]]  # get input values from first column \n",
        "#y = df.iloc[:, 0]  # get output values from second column \n",
        "m = len(z) # Number of training examples \n",
        "print('Z = ', z[:10]) # Show only first 5 records \n",
        "#print('y = ', y[:10]) \n",
        "print('m = ', m) \n",
        "z.shape"
      ],
      "metadata": {
        "colab": {
          "base_uri": "https://localhost:8080/"
        },
        "id": "T8PyY_cT6Jy2",
        "outputId": "fed86830-48c8-4356-dbf1-a973819259aa"
      },
      "execution_count": 3,
      "outputs": [
        {
          "output_type": "stream",
          "name": "stdout",
          "text": [
            "Z =        price   area  bedrooms  bathrooms  stories  parking\n",
            "0  13300000   7420         4          2        3        2\n",
            "1  12250000   8960         4          4        4        3\n",
            "2  12250000   9960         3          2        2        2\n",
            "3  12215000   7500         4          2        2        3\n",
            "4  11410000   7420         4          1        2        2\n",
            "5  10850000   7500         3          3        1        2\n",
            "6  10150000   8580         4          3        4        2\n",
            "7  10150000  16200         5          3        2        0\n",
            "8   9870000   8100         4          1        2        2\n",
            "9   9800000   5750         3          2        4        1\n",
            "m =  545\n"
          ]
        },
        {
          "output_type": "execute_result",
          "data": {
            "text/plain": [
              "(545, 6)"
            ]
          },
          "metadata": {},
          "execution_count": 3
        }
      ]
    },
    {
      "cell_type": "code",
      "source": [
        "# using the train test split function\n",
        "z_train, z_test = train_test_split(z, random_state = 0, train_size = .8)\n",
        "\n",
        "print(f\"No. of training examples: {z_train.shape[0]}\")\n",
        "print(f\"No. of testing examples: {z_test.shape[0]}\")"
      ],
      "metadata": {
        "colab": {
          "base_uri": "https://localhost:8080/"
        },
        "id": "D4xb_R366Uce",
        "outputId": "49f34125-3abe-4a32-ca88-432255cb500e"
      },
      "execution_count": 4,
      "outputs": [
        {
          "output_type": "stream",
          "name": "stdout",
          "text": [
            "No. of training examples: 436\n",
            "No. of testing examples: 109\n"
          ]
        }
      ]
    },
    {
      "cell_type": "code",
      "source": [
        "import warnings\n",
        "warnings. filterwarnings( 'ignore' )\n",
        "from sklearn. preprocessing import MinMaxScaler, StandardScaler\n",
        "\n",
        "scaler = StandardScaler()\n",
        "\n",
        "#scaler = MinMaxScaler()\n",
        "z_train= scaler.fit_transform(z_train)\n",
        "z_test= scaler.fit_transform(z_test)\n",
        "print('z_train = ', z_train[:10]) # Show only first 5 records \n",
        "print('z_test = ', z_test[:10]) "
      ],
      "metadata": {
        "colab": {
          "base_uri": "https://localhost:8080/"
        },
        "id": "AKQCum226W2z",
        "outputId": "353cba4c-6847-40cf-a0db-977ee30b4505"
      },
      "execution_count": 5,
      "outputs": [
        {
          "output_type": "stream",
          "name": "stdout",
          "text": [
            "z_train =  [[-1.5860012  -0.71677205 -1.29437561 -0.57330726 -0.93314164 -0.81914879]\n",
            " [-1.09097091 -0.53893631 -1.29437561 -0.57330726 -0.93314164 -0.81914879]\n",
            " [-0.99929863 -0.98820554 -1.29437561 -0.57330726 -0.93314164 -0.81914879]\n",
            " [-1.14597428 -0.72613182 -1.29437561 -0.57330726 -0.93314164 -0.81914879]\n",
            " [-0.13757923  2.20347795  0.05251643 -0.57330726 -0.93314164 -0.81914879]\n",
            " [-0.1925826  -0.55391195  0.05251643 -0.57330726  0.21291401 -0.81914879]\n",
            " [-0.10091032 -0.61381451  0.05251643 -0.57330726  0.21291401  0.32555914]\n",
            " [ 0.24744433  2.17539862  1.39940847  1.4755613   0.21291401  1.47026706]\n",
            " [-0.63260953 -0.70741227 -1.29437561 -0.57330726 -0.93314164 -0.81914879]\n",
            " [-0.59594061 -0.76357092 -1.29437561  1.4755613  -0.93314164 -0.81914879]]\n",
            "z_test =  [[-0.08135801 -0.50073521  0.02560738 -0.56354451  0.27241586  0.49214421]\n",
            " [ 0.80111439  1.95422869  0.02560738 -0.56354451 -0.91531729  1.73967255]\n",
            " [-0.42156349 -0.73662142  1.42120937 -0.56354451  0.27241586 -0.75538413]\n",
            " [ 1.30008243  3.5180669  -1.36999462 -0.56354451 -0.91531729  0.49214421]\n",
            " [-1.05042817 -0.64925616  1.42120937 -0.56354451  0.27241586 -0.75538413]\n",
            " [ 0.86709364  0.52580664  0.02560738  1.2431129   1.46014902 -0.75538413]\n",
            " [-0.69991343 -0.56625916  0.02560738 -0.56354451 -0.91531729  1.73967255]\n",
            " [-1.05042817 -0.72788489  0.02560738 -0.56354451  0.27241586  0.49214421]\n",
            " [-0.72053194 -0.71390645 -1.36999462 -0.56354451 -0.91531729  0.49214421]\n",
            " [ 1.91863786  1.68339637  1.42120937  1.2431129   2.64788217  1.73967255]]\n"
          ]
        }
      ]
    },
    {
      "cell_type": "code",
      "source": [
        "X_train= z_train[:,1:6]  # get input values from first column \n",
        "y_train =z_train[:, 0]  # get output values from second column \n",
        "X_test= z_test[:,1:6]  # get input values from first column \n",
        "y_test =z_test[:, 0]  # get output values from second column \n",
        "\n",
        "print('X = ', X_train[:10]) # Show only first 5 records \n",
        "print('y ', y_train[:10]) \n",
        "X_train.shape\n"
      ],
      "metadata": {
        "colab": {
          "base_uri": "https://localhost:8080/"
        },
        "id": "KQkoVnKT6Zfx",
        "outputId": "2b2cdb34-8974-4e8e-e6af-6c86f858efa0"
      },
      "execution_count": 6,
      "outputs": [
        {
          "output_type": "stream",
          "name": "stdout",
          "text": [
            "X =  [[-0.71677205 -1.29437561 -0.57330726 -0.93314164 -0.81914879]\n",
            " [-0.53893631 -1.29437561 -0.57330726 -0.93314164 -0.81914879]\n",
            " [-0.98820554 -1.29437561 -0.57330726 -0.93314164 -0.81914879]\n",
            " [-0.72613182 -1.29437561 -0.57330726 -0.93314164 -0.81914879]\n",
            " [ 2.20347795  0.05251643 -0.57330726 -0.93314164 -0.81914879]\n",
            " [-0.55391195  0.05251643 -0.57330726  0.21291401 -0.81914879]\n",
            " [-0.61381451  0.05251643 -0.57330726  0.21291401  0.32555914]\n",
            " [ 2.17539862  1.39940847  1.4755613   0.21291401  1.47026706]\n",
            " [-0.70741227 -1.29437561 -0.57330726 -0.93314164 -0.81914879]\n",
            " [-0.76357092 -1.29437561  1.4755613  -0.93314164 -0.81914879]]\n",
            "y  [-1.5860012  -1.09097091 -0.99929863 -1.14597428 -0.13757923 -0.1925826\n",
            " -0.10091032  0.24744433 -0.63260953 -0.59594061]\n"
          ]
        },
        {
          "output_type": "execute_result",
          "data": {
            "text/plain": [
              "(436, 5)"
            ]
          },
          "metadata": {},
          "execution_count": 6
        }
      ]
    },
    {
      "cell_type": "code",
      "source": [
        "#Lets create a matrix with single column of ones \n",
        "X_0 = np.ones((436, 1)) \n",
        "X_2 = np.ones((109,1))\n"
      ],
      "metadata": {
        "id": "3jqkdJNS6dTo"
      },
      "execution_count": 7,
      "outputs": []
    },
    {
      "cell_type": "code",
      "source": [
        "# Using reshape function convert X 1D array to 2D array of dimension 100X1 \n",
        "X_1 = X_train.reshape(436,5) \n",
        "X_3 = X_test.reshape(109,5)"
      ],
      "metadata": {
        "id": "9-Dzll1Q6fl8"
      },
      "execution_count": 8,
      "outputs": []
    },
    {
      "cell_type": "code",
      "source": [
        "# Lets use hstack() function from numpy to stack X_0 and X_1 horizontally (i.e. column \n",
        "# This will be our final X matrix (feature matrix) \n",
        "X_train = np.hstack((X_0, X_1)) \n",
        "X_test = np.hstack((X_2, X_3))"
      ],
      "metadata": {
        "id": "LX6cbiXm6h5V"
      },
      "execution_count": 9,
      "outputs": []
    },
    {
      "cell_type": "code",
      "source": [
        "theta = np.zeros(6) \n",
        "theta "
      ],
      "metadata": {
        "colab": {
          "base_uri": "https://localhost:8080/"
        },
        "id": "6aqhO9pf6kCh",
        "outputId": "1611fd2e-162c-43ee-f0de-47391c75394d"
      },
      "execution_count": 10,
      "outputs": [
        {
          "output_type": "execute_result",
          "data": {
            "text/plain": [
              "array([0., 0., 0., 0., 0., 0.])"
            ]
          },
          "metadata": {},
          "execution_count": 10
        }
      ]
    },
    {
      "cell_type": "code",
      "source": [
        "def compute_cost(X, y, theta): \n",
        "  \"\"\" \n",
        "  Compute cost for linear regression. \n",
        " \n",
        "  Input Parameters \n",
        "  ---------------- \n",
        "  X : 2D array where each row represent the training example and each column represent \n",
        "      m= number of training examples \n",
        "      n= number of features (including X_0 column of ones) \n",
        "  y : 1D array of labels/target value for each traing example. dimension(1 x m) \n",
        " \n",
        "  theta : 1D array of fitting parameters or weights. Dimension (1 x n) \n",
        " \n",
        "  Output Parameters \n",
        "  ----------------- \n",
        "  J : Scalar value. \n",
        "  \"\"\" \n",
        "  predictions = X.dot(theta) \n",
        "  errors = np.subtract(predictions, y) \n",
        "  sqrErrors = np.square(errors) \n",
        "  J = 1 / (2 * m) * np.sum(sqrErrors) \n",
        " \n",
        "  return J "
      ],
      "metadata": {
        "id": "NnDUIYE86o7R"
      },
      "execution_count": 11,
      "outputs": []
    },
    {
      "cell_type": "code",
      "source": [
        "# Lets compute the cost for theta values \n",
        "cost = compute_cost(X_train, y_train, theta) \n",
        "print('The cost for given values of theta_0 =',cost) "
      ],
      "metadata": {
        "colab": {
          "base_uri": "https://localhost:8080/"
        },
        "id": "TEo0pMYT6qNT",
        "outputId": "44073a2e-72c8-40c5-c3a9-0607c175bfb2"
      },
      "execution_count": 12,
      "outputs": [
        {
          "output_type": "stream",
          "name": "stdout",
          "text": [
            "The cost for given values of theta_0 = 0.4000000000000001\n"
          ]
        }
      ]
    },
    {
      "cell_type": "code",
      "source": [
        "def gradient_descent(X, X1, y, y1, theta, alpha, iterations): \n",
        "  \"\"\" \n",
        "  Compute cost for linear regression. \n",
        " \n",
        "  Input Parameters \n",
        "  ---------------- \n",
        "  X : 2D array where each row represent the training example and each column represent \n",
        "      m= number of training examples \n",
        "      n= number of features (including X_0 column of ones) \n",
        "  y : 1D array of labels/target value for each traing example. dimension(m x 1) \n",
        "  theta : 1D array of fitting parameters or weights. Dimension (1 x n) \n",
        "  alpha : Learning rate. Scalar value \n",
        "  iterations: No of iterations. Scalar value.  \n",
        " \n",
        "  Output Parameters \n",
        "  ----------------- \n",
        "  theta : Final Value. 1D array of fitting parameters or weights. Dimension (1 x n) \n",
        "  cost_history: Conatins value of cost for each iteration. 1D array. Dimansion(m x 1)\n",
        "  ef gradient_descent(X, y, theta, alpha, iterations): \n",
        "  \"\"\" \n",
        "  cost_history = np.zeros(iterations) \n",
        "  cost_history2 = np.zeros(iterations) \n",
        " \n",
        "  for i in range(iterations): \n",
        "    predictions = X.dot(theta) \n",
        "    errors = np.subtract(predictions, y) \n",
        "    sum_delta = (alpha /m) * X.transpose().dot(errors); \n",
        "    theta= theta - sum_delta; \n",
        "    cost_history[i] = compute_cost(X, y, theta)\n",
        "    cost_history2[i] = compute_cost(X1, y1, theta) \n",
        " \n",
        "  return theta, cost_history , cost_history2"
      ],
      "metadata": {
        "id": "XZL-EHcz64CS"
      },
      "execution_count": 13,
      "outputs": []
    },
    {
      "cell_type": "code",
      "source": [
        "theta = [0.,0.,0.,0.,0.,0.] \n",
        "iterations = 100; \n",
        "alpha =0.01;"
      ],
      "metadata": {
        "id": "Q-0xkfWS66Xo"
      },
      "execution_count": 14,
      "outputs": []
    },
    {
      "cell_type": "code",
      "source": [
        "theta, cost_history_a, cost_history_a2 = gradient_descent(X_train, X_test, y_train, y_test, theta, alpha, iterations) \n",
        "print('Final value of theta =', theta) \n",
        "print('cost_history =', cost_history_a[-1],cost_history_a2[-1]) "
      ],
      "metadata": {
        "colab": {
          "base_uri": "https://localhost:8080/"
        },
        "id": "GPjhcy7j67kY",
        "outputId": "29928d79-7fa8-4ec9-cb8d-2e20b3f8c168"
      },
      "execution_count": 15,
      "outputs": [
        {
          "output_type": "stream",
          "name": "stdout",
          "text": [
            "Final value of theta = [1.23546433e-16 2.45896524e-01 1.35040283e-01 2.14289768e-01\n",
            " 1.70114529e-01 1.50211822e-01]\n",
            "cost_history = 0.19407528492695347 0.04481658144283645\n"
          ]
        }
      ]
    },
    {
      "cell_type": "code",
      "source": [
        "plt.plot(range(1, iterations + 1),cost_history_a, color='blue') \n",
        "plt.plot(range(1, iterations + 1),cost_history_a2, color='green') \n",
        "plt.rcParams[\"figure.figsize\"] = (10,6) \n",
        "plt.grid() \n",
        "plt.xlabel('Number of iterations') \n",
        "plt.ylabel('Cost (J)') \n",
        "plt.title('Convergence of gradient descent') "
      ],
      "metadata": {
        "colab": {
          "base_uri": "https://localhost:8080/",
          "height": 313
        },
        "id": "GRcYpreL6_jf",
        "outputId": "058f0e66-589e-42e7-e127-d25791b5150b"
      },
      "execution_count": 16,
      "outputs": [
        {
          "output_type": "execute_result",
          "data": {
            "text/plain": [
              "Text(0.5, 1.0, 'Convergence of gradient descent')"
            ]
          },
          "metadata": {},
          "execution_count": 16
        },
        {
          "output_type": "display_data",
          "data": {
            "text/plain": [
              "<Figure size 432x288 with 1 Axes>"
            ],
            "image/png": "[encoded data removed]"
          },
          "metadata": {
            "needs_background": "light"
          }
        }
      ]
    },
    {
      "cell_type": "code",
      "source": [],
      "metadata": {
        "id": "oDhb8IOi7Clb"
      },
      "execution_count": 16,
      "outputs": []
    }
  ]
}