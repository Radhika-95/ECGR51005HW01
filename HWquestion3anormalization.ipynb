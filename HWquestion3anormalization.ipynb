{
  "nbformat": 4,
  "nbformat_minor": 0,
  "metadata": {
    "colab": {
      "provenance": []
    },
    "kernelspec": {
      "name": "python3",
      "display_name": "Python 3"
    },
    "language_info": {
      "name": "python"
    }
  },
  "cells": [
    {
      "cell_type": "code",
      "execution_count": 94,
      "metadata": {
        "id": "bIU4iH_Fh_eU"
      },
      "outputs": [],
      "source": [
        "import numpy as np \n",
        "import pandas as pd \n",
        "import matplotlib.pyplot as plt \n",
        "from sklearn.model_selection import train_test_split"
      ]
    },
    {
      "cell_type": "code",
      "source": [
        "df = pd.read_csv('/content/sample_data/Housing.csv')\n",
        "print(df)\n",
        "df.head() # To get first n rows from the dataset default value of n is 5 \n",
        "M=len(df) \n",
        "M"
      ],
      "metadata": {
        "colab": {
          "base_uri": "https://localhost:8080/"
        },
        "id": "1F6SBbE6mT3j",
        "outputId": "a9f9c400-fe66-4e00-f59e-67ef648843f6"
      },
      "execution_count": 95,
      "outputs": [
        {
          "output_type": "stream",
          "name": "stdout",
          "text": [
            "        price  area  bedrooms  bathrooms  stories mainroad guestroom basement  \\\n",
            "0    13300000  7420         4          2        3      yes        no       no   \n",
            "1    12250000  8960         4          4        4      yes        no       no   \n",
            "2    12250000  9960         3          2        2      yes        no      yes   \n",
            "3    12215000  7500         4          2        2      yes        no      yes   \n",
            "4    11410000  7420         4          1        2      yes       yes      yes   \n",
            "..        ...   ...       ...        ...      ...      ...       ...      ...   \n",
            "540   1820000  3000         2          1        1      yes        no      yes   \n",
            "541   1767150  2400         3          1        1       no        no       no   \n",
            "542   1750000  3620         2          1        1      yes        no       no   \n",
            "543   1750000  2910         3          1        1       no        no       no   \n",
            "544   1750000  3850         3          1        2      yes        no       no   \n",
            "\n",
            "    hotwaterheating airconditioning  parking prefarea furnishingstatus  \n",
            "0                no             yes        2      yes        furnished  \n",
            "1                no             yes        3       no        furnished  \n",
            "2                no              no        2      yes   semi-furnished  \n",
            "3                no             yes        3      yes        furnished  \n",
            "4                no             yes        2       no        furnished  \n",
            "..              ...             ...      ...      ...              ...  \n",
            "540              no              no        2       no      unfurnished  \n",
            "541              no              no        0       no   semi-furnished  \n",
            "542              no              no        0       no      unfurnished  \n",
            "543              no              no        0       no        furnished  \n",
            "544              no              no        0       no      unfurnished  \n",
            "\n",
            "[545 rows x 13 columns]\n"
          ]
        },
        {
          "output_type": "execute_result",
          "data": {
            "text/plain": [
              "545"
            ]
          },
          "metadata": {},
          "execution_count": 95
        }
      ]
    },
    {
      "cell_type": "code",
      "source": [
        "z= df.iloc[:,[0,1,2,3,4,10]]  # get input values from first column \n",
        "#y = df.iloc[:, 0]  # get output values from second column \n",
        "m = len(z) # Number of training examples \n",
        "print('Z = ', z[:10]) # Show only first 5 records \n",
        "#print('y = ', y[:10]) \n",
        "print('m = ', m) \n",
        "z.shape"
      ],
      "metadata": {
        "colab": {
          "base_uri": "https://localhost:8080/"
        },
        "id": "IaYW_MstmV98",
        "outputId": "666908ec-bfe8-4e03-dc78-ff7f6c64378f"
      },
      "execution_count": 96,
      "outputs": [
        {
          "output_type": "stream",
          "name": "stdout",
          "text": [
            "Z =        price   area  bedrooms  bathrooms  stories  parking\n",
            "0  13300000   7420         4          2        3        2\n",
            "1  12250000   8960         4          4        4        3\n",
            "2  12250000   9960         3          2        2        2\n",
            "3  12215000   7500         4          2        2        3\n",
            "4  11410000   7420         4          1        2        2\n",
            "5  10850000   7500         3          3        1        2\n",
            "6  10150000   8580         4          3        4        2\n",
            "7  10150000  16200         5          3        2        0\n",
            "8   9870000   8100         4          1        2        2\n",
            "9   9800000   5750         3          2        4        1\n",
            "m =  545\n"
          ]
        },
        {
          "output_type": "execute_result",
          "data": {
            "text/plain": [
              "(545, 6)"
            ]
          },
          "metadata": {},
          "execution_count": 96
        }
      ]
    },
    {
      "cell_type": "code",
      "source": [
        "# using the train test split function\n",
        "z_train, z_test = train_test_split(z, random_state = 0, train_size = .8)\n",
        "\n",
        "print(f\"No. of training examples: {z_train.shape[0]}\")\n",
        "print(f\"No. of testing examples: {z_test.shape[0]}\")\n",
        "\n",
        "#print(f\"No. of training examples: {y_train.shape[0]}\")\n",
        "#print(f\"No. of testing examples: {y_test.shape[0]}\")"
      ],
      "metadata": {
        "colab": {
          "base_uri": "https://localhost:8080/"
        },
        "id": "SIhLg15dmWAz",
        "outputId": "4bbf8c25-99db-4b0c-d11e-545e1eecb6df"
      },
      "execution_count": 97,
      "outputs": [
        {
          "output_type": "stream",
          "name": "stdout",
          "text": [
            "No. of training examples: 436\n",
            "No. of testing examples: 109\n"
          ]
        }
      ]
    },
    {
      "cell_type": "code",
      "source": [
        "import warnings\n",
        "warnings. filterwarnings( 'ignore' )\n",
        "from sklearn. preprocessing import MinMaxScaler, StandardScaler\n",
        "\n",
        "#scaler = StandardScaler()\n",
        "\n",
        "scaler = MinMaxScaler()\n",
        "z_train= scaler.fit_transform(z_train)\n",
        "z_test= scaler.fit_transform(z_test)\n",
        "print('z_train = ', z_train[:10]) # Show only first 5 records \n",
        "print('z_test = ', z_test[:10]) "
      ],
      "metadata": {
        "colab": {
          "base_uri": "https://localhost:8080/"
        },
        "id": "kH0ZmrddmWHg",
        "outputId": "551fcc22-6ca8-47be-da55-13f46f4bb102"
      },
      "execution_count": 98,
      "outputs": [
        {
          "output_type": "stream",
          "name": "stdout",
          "text": [
            "z_train =  [[0.         0.12419939 0.2        0.         0.         0.        ]\n",
            " [0.08181818 0.15065441 0.2        0.         0.         0.        ]\n",
            " [0.0969697  0.08382066 0.2        0.         0.         0.        ]\n",
            " [0.07272727 0.12280702 0.2        0.         0.         0.        ]\n",
            " [0.23939394 0.55861877 0.4        0.         0.         0.        ]\n",
            " [0.23030303 0.14842662 0.4        0.         0.33333333 0.        ]\n",
            " [0.24545455 0.13951546 0.4        0.         0.33333333 0.33333333]\n",
            " [0.3030303  0.55444166 0.6        0.5        0.33333333 0.66666667]\n",
            " [0.15757576 0.12559176 0.2        0.         0.         0.        ]\n",
            " [0.16363636 0.11723754 0.2        0.5        0.         0.        ]]\n",
            "z_test =  [[0.27       0.2034632  0.5        0.         0.33333333 0.33333333]\n",
            " [0.41266667 0.69004329 0.5        0.         0.         0.66666667]\n",
            " [0.215      0.15670996 0.75       0.         0.33333333 0.        ]\n",
            " [0.49333333 1.         0.25       0.         0.         0.33333333]\n",
            " [0.11333333 0.17402597 0.75       0.         0.33333333 0.        ]\n",
            " [0.42333333 0.40692641 0.5        0.33333333 0.66666667 0.        ]\n",
            " [0.17       0.19047619 0.5        0.         0.         0.66666667]\n",
            " [0.11333333 0.15844156 0.5        0.         0.33333333 0.33333333]\n",
            " [0.16666667 0.16121212 0.25       0.         0.         0.33333333]\n",
            " [0.59333333 0.63636364 0.75       0.33333333 1.         0.66666667]]\n"
          ]
        }
      ]
    },
    {
      "cell_type": "code",
      "source": [
        "X_train= z_train[:,1:6]  # get input values from first column \n",
        "y_train =z_train[:, 0]  # get output values from second column \n",
        "X_test= z_test[:,1:6]  # get input values from first column \n",
        "y_test =z_test[:, 0]  # get output values from second column \n",
        "\n",
        "print('X = ', X_train[:10]) # Show only first 5 records \n",
        "print('y ', y_train[:10]) \n",
        "X_train.shape\n"
      ],
      "metadata": {
        "colab": {
          "base_uri": "https://localhost:8080/"
        },
        "id": "abB0D3aumWMT",
        "outputId": "701200ee-33b2-4410-c15d-b8c90e956496"
      },
      "execution_count": 99,
      "outputs": [
        {
          "output_type": "stream",
          "name": "stdout",
          "text": [
            "X =  [[0.12419939 0.2        0.         0.         0.        ]\n",
            " [0.15065441 0.2        0.         0.         0.        ]\n",
            " [0.08382066 0.2        0.         0.         0.        ]\n",
            " [0.12280702 0.2        0.         0.         0.        ]\n",
            " [0.55861877 0.4        0.         0.         0.        ]\n",
            " [0.14842662 0.4        0.         0.33333333 0.        ]\n",
            " [0.13951546 0.4        0.         0.33333333 0.33333333]\n",
            " [0.55444166 0.6        0.5        0.33333333 0.66666667]\n",
            " [0.12559176 0.2        0.         0.         0.        ]\n",
            " [0.11723754 0.2        0.5        0.         0.        ]]\n",
            "y  [0.         0.08181818 0.0969697  0.07272727 0.23939394 0.23030303\n",
            " 0.24545455 0.3030303  0.15757576 0.16363636]\n"
          ]
        },
        {
          "output_type": "execute_result",
          "data": {
            "text/plain": [
              "(436, 5)"
            ]
          },
          "metadata": {},
          "execution_count": 99
        }
      ]
    },
    {
      "cell_type": "code",
      "source": [
        "#Lets create a matrix with single column of ones \n",
        "X_0 = np.ones((436, 1)) \n",
        "X_2 = np.ones((109,1))\n"
      ],
      "metadata": {
        "id": "VkBIQoXEmWOg"
      },
      "execution_count": 100,
      "outputs": []
    },
    {
      "cell_type": "code",
      "source": [
        "# Using reshape function convert X 1D array to 2D array of dimension 100X1 \n",
        "X_1 = X_train.reshape(436,5) \n",
        "X_3 = X_test.reshape(109,5)"
      ],
      "metadata": {
        "id": "Oj3dGFLhmWSp"
      },
      "execution_count": 101,
      "outputs": []
    },
    {
      "cell_type": "code",
      "source": [
        "# Lets use hstack() function from numpy to stack X_0 and X_1 horizontally (i.e. column \n",
        "# This will be our final X matrix (feature matrix) \n",
        "X_train = np.hstack((X_0, X_1)) \n",
        "X_test = np.hstack((X_2, X_3))"
      ],
      "metadata": {
        "id": "AsPEDjIfmWVr"
      },
      "execution_count": 102,
      "outputs": []
    },
    {
      "cell_type": "code",
      "source": [
        "theta = np.zeros(6) \n",
        "theta "
      ],
      "metadata": {
        "colab": {
          "base_uri": "https://localhost:8080/"
        },
        "id": "fEIHMOX3mr2Y",
        "outputId": "957f4d07-9518-4480-e735-e12a5253f3b2"
      },
      "execution_count": 103,
      "outputs": [
        {
          "output_type": "execute_result",
          "data": {
            "text/plain": [
              "array([0., 0., 0., 0., 0., 0.])"
            ]
          },
          "metadata": {},
          "execution_count": 103
        }
      ]
    },
    {
      "cell_type": "code",
      "source": [
        "def compute_cost(X, y, theta): \n",
        "  \"\"\" \n",
        "  Compute cost for linear regression. \n",
        " \n",
        "  Input Parameters \n",
        "  ---------------- \n",
        "  X : 2D array where each row represent the training example and each column represent \n",
        "      m= number of training examples \n",
        "      n= number of features (including X_0 column of ones) \n",
        "  y : 1D array of labels/target value for each traing example. dimension(1 x m) \n",
        " \n",
        "  theta : 1D array of fitting parameters or weights. Dimension (1 x n) \n",
        " \n",
        "  Output Parameters \n",
        "  ----------------- \n",
        "  J : Scalar value. \n",
        "  \"\"\" \n",
        "  predictions = X.dot(theta) \n",
        "  errors = np.subtract(predictions, y) \n",
        "  sqrErrors = np.square(errors) \n",
        "  J = 1 / (2 * m) * np.sum(sqrErrors) \n",
        " \n",
        "  return J "
      ],
      "metadata": {
        "id": "izq-N7Ewmsdp"
      },
      "execution_count": 104,
      "outputs": []
    },
    {
      "cell_type": "code",
      "source": [
        "# Lets compute the cost for theta values \n",
        "cost = compute_cost(X_train, y_train, theta) \n",
        "print('The cost for given values of theta_0 =',cost) "
      ],
      "metadata": {
        "colab": {
          "base_uri": "https://localhost:8080/"
        },
        "id": "ynTrWo1bmsh2",
        "outputId": "823eac03-9e10-47a8-f994-a8beb8730f7c"
      },
      "execution_count": 105,
      "outputs": [
        {
          "output_type": "stream",
          "name": "stdout",
          "text": [
            "The cost for given values of theta_0 = 0.03841234407170959\n"
          ]
        }
      ]
    },
    {
      "cell_type": "code",
      "source": [
        "def gradient_descent(X, X1, y, y1, theta, alpha, iterations): \n",
        "  \"\"\" \n",
        "  Compute cost for linear regression. \n",
        " \n",
        "  Input Parameters \n",
        "  ---------------- \n",
        "  X : 2D array where each row represent the training example and each column represent \n",
        "      m= number of training examples \n",
        "      n= number of features (including X_0 column of ones) \n",
        "  y : 1D array of labels/target value for each traing example. dimension(m x 1) \n",
        "  theta : 1D array of fitting parameters or weights. Dimension (1 x n) \n",
        "  alpha : Learning rate. Scalar value \n",
        "  iterations: No of iterations. Scalar value.  \n",
        " \n",
        "  Output Parameters \n",
        "  ----------------- \n",
        "  theta : Final Value. 1D array of fitting parameters or weights. Dimension (1 x n) \n",
        "  cost_history: Conatins value of cost for each iteration. 1D array. Dimansion(m x 1)\n",
        "  ef gradient_descent(X, y, theta, alpha, iterations): \n",
        "  \"\"\" \n",
        "  cost_history = np.zeros(iterations) \n",
        "  cost_history2 = np.zeros(iterations) \n",
        "  lmbda_value = 1;\n",
        "\n",
        "\n",
        "  for i in range(iterations): \n",
        "    predictions = X.dot(theta) \n",
        "    errors = np.subtract(predictions, y) \n",
        "    sum_delta = (1 /m) * (X.transpose().dot(errors) + lmbda_value *theta) ; \n",
        "    theta= theta - alpha*sum_delta; \n",
        "    cost_history[i] = compute_cost(X, y, theta)\n",
        "    cost_history2[i] = compute_cost(X1, y1, theta) \n",
        " \n",
        "  return theta, cost_history , cost_history2"
      ],
      "metadata": {
        "id": "l3_nnJZjmsj7"
      },
      "execution_count": 106,
      "outputs": []
    },
    {
      "cell_type": "code",
      "source": [
        "theta = [0.,0.,0.,0.,0.,0.] \n",
        "iterations = 100; \n",
        "alpha =0.01;"
      ],
      "metadata": {
        "id": "oFzENzA6m3XK"
      },
      "execution_count": 107,
      "outputs": []
    },
    {
      "cell_type": "markdown",
      "source": [],
      "metadata": {
        "id": "msMJh8W3ySCT"
      }
    },
    {
      "cell_type": "code",
      "source": [
        "theta, cost_history_a, cost_history_a2 = gradient_descent(X_train, X_test, y_train, y_test, theta, alpha, iterations) \n",
        "print('Final value of theta =', theta) \n",
        "print('cost_history =', cost_history_a[-1],cost_history_a2[-1]) "
      ],
      "metadata": {
        "colab": {
          "base_uri": "https://localhost:8080/"
        },
        "id": "twskF1Qhm3Z2",
        "outputId": "90b15671-9ec2-4776-a9aa-d52a89b6ca08"
      },
      "execution_count": 108,
      "outputs": [
        {
          "output_type": "stream",
          "name": "stdout",
          "text": [
            "Final value of theta = [0.12431489 0.03821881 0.0550275  0.0316778  0.04683365 0.04174956]\n",
            "cost_history = 0.011175046022406496 0.0029404436185396956\n"
          ]
        }
      ]
    },
    {
      "cell_type": "code",
      "source": [
        "plt.plot(range(1, iterations + 1),cost_history_a, color='blue') \n",
        "plt.plot(range(1, iterations + 1),cost_history_a2, color='green') \n",
        "plt.rcParams[\"figure.figsize\"] = (10,6) \n",
        "plt.grid() \n",
        "plt.xlabel('Number of iterations') \n",
        "plt.ylabel('Cost (J)') \n",
        "plt.title('Convergence of gradient descent') "
      ],
      "metadata": {
        "colab": {
          "base_uri": "https://localhost:8080/",
          "height": 422
        },
        "id": "f5JCptCdm3ea",
        "outputId": "a1de4833-fd2c-4fbf-9d62-4221b1964e79"
      },
      "execution_count": 109,
      "outputs": [
        {
          "output_type": "execute_result",
          "data": {
            "text/plain": [
              "Text(0.5, 1.0, 'Convergence of gradient descent')"
            ]
          },
          "metadata": {},
          "execution_count": 109
        },
        {
          "output_type": "display_data",
          "data": {
            "text/plain": [
              "<Figure size 720x432 with 1 Axes>"
            ],
            "image/png": "[encoded data removed]"
          },
          "metadata": {
            "needs_background": "light"
          }
        }
      ]
    },
    {
      "cell_type": "code",
      "source": [],
      "metadata": {
        "id": "B9f8Q9UtymtC"
      },
      "execution_count": 109,
      "outputs": []
    }
  ]
}