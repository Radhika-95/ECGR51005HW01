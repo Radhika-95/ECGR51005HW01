{
  "nbformat": 4,
  "nbformat_minor": 0,
  "metadata": {
    "colab": {
      "provenance": []
    },
    "kernelspec": {
      "name": "python3",
      "display_name": "Python 3"
    },
    "language_info": {
      "name": "python"
    }
  },
  "cells": [
    {
      "cell_type": "code",
      "execution_count": 17,
      "metadata": {
        "id": "btc9pKqVnxUs"
      },
      "outputs": [],
      "source": [
        "import numpy as np \n",
        "import pandas as pd \n",
        "import matplotlib.pyplot as plt \n",
        "from sklearn.model_selection import train_test_split"
      ]
    },
    {
      "cell_type": "code",
      "source": [
        "df = pd.read_csv('/content/sample_data/Housing.csv')\n",
        "print(df)\n",
        "df.head() # To get first n rows from the dataset default value of n is 5 \n",
        "M=len(df) \n",
        "M"
      ],
      "metadata": {
        "id": "V4fCcXRUoDjr",
        "colab": {
          "base_uri": "https://localhost:8080/"
        },
        "outputId": "e46029d6-89e5-42b0-bfe7-642935e42473"
      },
      "execution_count": 18,
      "outputs": [
        {
          "output_type": "stream",
          "name": "stdout",
          "text": [
            "        price  area  bedrooms  bathrooms  stories mainroad guestroom basement  \\\n",
            "0    13300000  7420         4          2        3      yes        no       no   \n",
            "1    12250000  8960         4          4        4      yes        no       no   \n",
            "2    12250000  9960         3          2        2      yes        no      yes   \n",
            "3    12215000  7500         4          2        2      yes        no      yes   \n",
            "4    11410000  7420         4          1        2      yes       yes      yes   \n",
            "..        ...   ...       ...        ...      ...      ...       ...      ...   \n",
            "540   1820000  3000         2          1        1      yes        no      yes   \n",
            "541   1767150  2400         3          1        1       no        no       no   \n",
            "542   1750000  3620         2          1        1      yes        no       no   \n",
            "543   1750000  2910         3          1        1       no        no       no   \n",
            "544   1750000  3850         3          1        2      yes        no       no   \n",
            "\n",
            "    hotwaterheating airconditioning  parking prefarea furnishingstatus  \n",
            "0                no             yes        2      yes        furnished  \n",
            "1                no             yes        3       no        furnished  \n",
            "2                no              no        2      yes   semi-furnished  \n",
            "3                no             yes        3      yes        furnished  \n",
            "4                no             yes        2       no        furnished  \n",
            "..              ...             ...      ...      ...              ...  \n",
            "540              no              no        2       no      unfurnished  \n",
            "541              no              no        0       no   semi-furnished  \n",
            "542              no              no        0       no      unfurnished  \n",
            "543              no              no        0       no        furnished  \n",
            "544              no              no        0       no      unfurnished  \n",
            "\n",
            "[545 rows x 13 columns]\n"
          ]
        },
        {
          "output_type": "execute_result",
          "data": {
            "text/plain": [
              "545"
            ]
          },
          "metadata": {},
          "execution_count": 18
        }
      ]
    },
    {
      "cell_type": "code",
      "source": [
        "z= df.iloc[:,[0,1,2,3,4,10]]  # get input values from first column \n",
        "#y = df.iloc[:, 0]  # get output values from second column \n",
        "m = len(z) # Number of training examples \n",
        "print('Z = ', z[:10]) # Show only first 5 records \n",
        "#print('y = ', y[:10]) \n",
        "print('m = ', m) \n",
        "z.shape"
      ],
      "metadata": {
        "id": "ekLrp6WxoGcr",
        "colab": {
          "base_uri": "https://localhost:8080/"
        },
        "outputId": "1b57b629-60c9-4b85-e727-80427acf7dea"
      },
      "execution_count": 19,
      "outputs": [
        {
          "output_type": "stream",
          "name": "stdout",
          "text": [
            "Z =        price   area  bedrooms  bathrooms  stories  parking\n",
            "0  13300000   7420         4          2        3        2\n",
            "1  12250000   8960         4          4        4        3\n",
            "2  12250000   9960         3          2        2        2\n",
            "3  12215000   7500         4          2        2        3\n",
            "4  11410000   7420         4          1        2        2\n",
            "5  10850000   7500         3          3        1        2\n",
            "6  10150000   8580         4          3        4        2\n",
            "7  10150000  16200         5          3        2        0\n",
            "8   9870000   8100         4          1        2        2\n",
            "9   9800000   5750         3          2        4        1\n",
            "m =  545\n"
          ]
        },
        {
          "output_type": "execute_result",
          "data": {
            "text/plain": [
              "(545, 6)"
            ]
          },
          "metadata": {},
          "execution_count": 19
        }
      ]
    },
    {
      "cell_type": "code",
      "source": [
        "# using the train test split function\n",
        "z_train, z_test = train_test_split(z, random_state = 0, train_size = .8)\n",
        "\n",
        "print(f\"No. of training examples: {z_train.shape[0]}\")\n",
        "print(f\"No. of testing examples: {z_test.shape[0]}\")\n",
        "\n",
        "#print(f\"No. of training examples: {y_train.shape[0]}\")\n",
        "#print(f\"No. of testing examples: {y_test.shape[0]}\")"
      ],
      "metadata": {
        "id": "W6FkzjJPoGiR",
        "colab": {
          "base_uri": "https://localhost:8080/"
        },
        "outputId": "058ff894-4cc7-47c2-cb54-74f31a044884"
      },
      "execution_count": 20,
      "outputs": [
        {
          "output_type": "stream",
          "name": "stdout",
          "text": [
            "No. of training examples: 436\n",
            "No. of testing examples: 109\n"
          ]
        }
      ]
    },
    {
      "cell_type": "code",
      "source": [
        "import warnings\n",
        "warnings. filterwarnings( 'ignore' )\n",
        "from sklearn. preprocessing import MinMaxScaler, StandardScaler\n",
        "\n",
        "scaler = StandardScaler()\n",
        "\n",
        "#scaler = MinMaxScaler()\n",
        "z_train= scaler.fit_transform(z_train)\n",
        "z_test= scaler.fit_transform(z_test)\n",
        "print('z_train = ', z_train[:10]) # Show only first 5 records \n",
        "print('z_test = ', z_test[:10]) "
      ],
      "metadata": {
        "id": "GGdByi-8oGm-",
        "colab": {
          "base_uri": "https://localhost:8080/"
        },
        "outputId": "f61f2cca-b886-4225-a0e2-d15a7ffdeb2f"
      },
      "execution_count": 21,
      "outputs": [
        {
          "output_type": "stream",
          "name": "stdout",
          "text": [
            "z_train =  [[-1.5860012  -0.71677205 -1.29437561 -0.57330726 -0.93314164 -0.81914879]\n",
            " [-1.09097091 -0.53893631 -1.29437561 -0.57330726 -0.93314164 -0.81914879]\n",
            " [-0.99929863 -0.98820554 -1.29437561 -0.57330726 -0.93314164 -0.81914879]\n",
            " [-1.14597428 -0.72613182 -1.29437561 -0.57330726 -0.93314164 -0.81914879]\n",
            " [-0.13757923  2.20347795  0.05251643 -0.57330726 -0.93314164 -0.81914879]\n",
            " [-0.1925826  -0.55391195  0.05251643 -0.57330726  0.21291401 -0.81914879]\n",
            " [-0.10091032 -0.61381451  0.05251643 -0.57330726  0.21291401  0.32555914]\n",
            " [ 0.24744433  2.17539862  1.39940847  1.4755613   0.21291401  1.47026706]\n",
            " [-0.63260953 -0.70741227 -1.29437561 -0.57330726 -0.93314164 -0.81914879]\n",
            " [-0.59594061 -0.76357092 -1.29437561  1.4755613  -0.93314164 -0.81914879]]\n",
            "z_test =  [[-0.08135801 -0.50073521  0.02560738 -0.56354451  0.27241586  0.49214421]\n",
            " [ 0.80111439  1.95422869  0.02560738 -0.56354451 -0.91531729  1.73967255]\n",
            " [-0.42156349 -0.73662142  1.42120937 -0.56354451  0.27241586 -0.75538413]\n",
            " [ 1.30008243  3.5180669  -1.36999462 -0.56354451 -0.91531729  0.49214421]\n",
            " [-1.05042817 -0.64925616  1.42120937 -0.56354451  0.27241586 -0.75538413]\n",
            " [ 0.86709364  0.52580664  0.02560738  1.2431129   1.46014902 -0.75538413]\n",
            " [-0.69991343 -0.56625916  0.02560738 -0.56354451 -0.91531729  1.73967255]\n",
            " [-1.05042817 -0.72788489  0.02560738 -0.56354451  0.27241586  0.49214421]\n",
            " [-0.72053194 -0.71390645 -1.36999462 -0.56354451 -0.91531729  0.49214421]\n",
            " [ 1.91863786  1.68339637  1.42120937  1.2431129   2.64788217  1.73967255]]\n"
          ]
        }
      ]
    },
    {
      "cell_type": "code",
      "source": [
        "X_train= z_train[:,1:6]  # get input values from first column \n",
        "y_train =z_train[:, 0]  # get output values from second column \n",
        "X_test= z_test[:,1:6]  # get input values from first column \n",
        "y_test =z_test[:, 0]  # get output values from second column \n",
        "\n",
        "print('X = ', X_train[:10]) # Show only first 5 records \n",
        "print('y ', y_train[:10]) \n",
        "X_train.shape"
      ],
      "metadata": {
        "id": "Gj90PjjYoGpC",
        "colab": {
          "base_uri": "https://localhost:8080/"
        },
        "outputId": "80f40ce9-8896-4c28-dc92-9cdfa5591ed7"
      },
      "execution_count": 22,
      "outputs": [
        {
          "output_type": "stream",
          "name": "stdout",
          "text": [
            "X =  [[-0.71677205 -1.29437561 -0.57330726 -0.93314164 -0.81914879]\n",
            " [-0.53893631 -1.29437561 -0.57330726 -0.93314164 -0.81914879]\n",
            " [-0.98820554 -1.29437561 -0.57330726 -0.93314164 -0.81914879]\n",
            " [-0.72613182 -1.29437561 -0.57330726 -0.93314164 -0.81914879]\n",
            " [ 2.20347795  0.05251643 -0.57330726 -0.93314164 -0.81914879]\n",
            " [-0.55391195  0.05251643 -0.57330726  0.21291401 -0.81914879]\n",
            " [-0.61381451  0.05251643 -0.57330726  0.21291401  0.32555914]\n",
            " [ 2.17539862  1.39940847  1.4755613   0.21291401  1.47026706]\n",
            " [-0.70741227 -1.29437561 -0.57330726 -0.93314164 -0.81914879]\n",
            " [-0.76357092 -1.29437561  1.4755613  -0.93314164 -0.81914879]]\n",
            "y  [-1.5860012  -1.09097091 -0.99929863 -1.14597428 -0.13757923 -0.1925826\n",
            " -0.10091032  0.24744433 -0.63260953 -0.59594061]\n"
          ]
        },
        {
          "output_type": "execute_result",
          "data": {
            "text/plain": [
              "(436, 5)"
            ]
          },
          "metadata": {},
          "execution_count": 22
        }
      ]
    },
    {
      "cell_type": "code",
      "source": [
        "#Lets create a matrix with single column of ones \n",
        "X_0 = np.ones((436, 1)) \n",
        "X_2 = np.ones((109,1))\n"
      ],
      "metadata": {
        "id": "tO6r1-x8oGqJ"
      },
      "execution_count": 23,
      "outputs": []
    },
    {
      "cell_type": "code",
      "source": [
        "# Using reshape function convert X 1D array to 2D array of dimension 100X1 \n",
        "X_1 = X_train.reshape(436,5) \n",
        "X_3 = X_test.reshape(109,5)"
      ],
      "metadata": {
        "id": "q93lS6rvoGvB"
      },
      "execution_count": 24,
      "outputs": []
    },
    {
      "cell_type": "code",
      "source": [
        "# Lets use hstack() function from numpy to stack X_0 and X_1 horizontally (i.e. column \n",
        "# This will be our final X matrix (feature matrix) \n",
        "X_train = np.hstack((X_0, X_1)) \n",
        "X_test = np.hstack((X_2, X_3))"
      ],
      "metadata": {
        "id": "JGf1YDaCoGyT"
      },
      "execution_count": 25,
      "outputs": []
    },
    {
      "cell_type": "code",
      "source": [
        "theta = np.zeros(6) \n",
        "theta "
      ],
      "metadata": {
        "id": "so0aAS-ooG1Q",
        "colab": {
          "base_uri": "https://localhost:8080/"
        },
        "outputId": "23f238fa-44e2-4dd6-f8ce-b95827e578d7"
      },
      "execution_count": 26,
      "outputs": [
        {
          "output_type": "execute_result",
          "data": {
            "text/plain": [
              "array([0., 0., 0., 0., 0., 0.])"
            ]
          },
          "metadata": {},
          "execution_count": 26
        }
      ]
    },
    {
      "cell_type": "code",
      "source": [
        "def compute_cost(X, y, theta): \n",
        "  \"\"\" \n",
        "  Compute cost for linear regression. \n",
        " \n",
        "  Input Parameters \n",
        "  ---------------- \n",
        "  X : 2D array where each row represent the training example and each column represent \n",
        "      m= number of training examples \n",
        "      n= number of features (including X_0 column of ones) \n",
        "  y : 1D array of labels/target value for each traing example. dimension(1 x m) \n",
        " \n",
        "  theta : 1D array of fitting parameters or weights. Dimension (1 x n) \n",
        " \n",
        "  Output Parameters \n",
        "  ----------------- \n",
        "  J : Scalar value. \n",
        "  \"\"\" \n",
        "  predictions = X.dot(theta) \n",
        "  errors = np.subtract(predictions, y) \n",
        "  sqrErrors = np.square(errors) \n",
        "  J = 1 / (2 * m) * np.sum(sqrErrors) \n",
        " \n",
        "  return J "
      ],
      "metadata": {
        "id": "fKimql_FoG-h"
      },
      "execution_count": 27,
      "outputs": []
    },
    {
      "cell_type": "code",
      "source": [
        "# Lets compute the cost for theta values \n",
        "cost = compute_cost(X_train, y_train, theta) \n",
        "print('The cost for given values of theta_0 =',cost) "
      ],
      "metadata": {
        "id": "KQEeHChXo2Qf",
        "colab": {
          "base_uri": "https://localhost:8080/"
        },
        "outputId": "4113ceaa-f892-4122-91dd-1531d783822d"
      },
      "execution_count": 28,
      "outputs": [
        {
          "output_type": "stream",
          "name": "stdout",
          "text": [
            "The cost for given values of theta_0 = 0.4000000000000001\n"
          ]
        }
      ]
    },
    {
      "cell_type": "code",
      "source": [
        "def gradient_descent(X, X1, y, y1, theta, alpha, iterations): \n",
        "  \"\"\" \n",
        "  Compute cost for linear regression. \n",
        " \n",
        "  Input Parameters \n",
        "  ---------------- \n",
        "  X : 2D array where each row represent the training example and each column represent \n",
        "      m= number of training examples \n",
        "      n= number of features (including X_0 column of ones) \n",
        "  y : 1D array of labels/target value for each traing example. dimension(m x 1) \n",
        "  theta : 1D array of fitting parameters or weights. Dimension (1 x n) \n",
        "  alpha : Learning rate. Scalar value \n",
        "  iterations: No of iterations. Scalar value.  \n",
        " \n",
        "  Output Parameters \n",
        "  ----------------- \n",
        "  theta : Final Value. 1D array of fitting parameters or weights. Dimension (1 x n) \n",
        "  cost_history: Conatins value of cost for each iteration. 1D array. Dimansion(m x 1)\n",
        "  ef gradient_descent(X, y, theta, alpha, iterations): \n",
        "  \"\"\" \n",
        "  cost_history = np.zeros(iterations) \n",
        "  cost_history2 = np.zeros(iterations) \n",
        "  lmbda_value = 1;\n",
        "\n",
        "\n",
        "  for i in range(iterations): \n",
        "    predictions = X.dot(theta) \n",
        "    errors = np.subtract(predictions, y) \n",
        "    sum_delta = (1 /m) * (X.transpose().dot(errors) + lmbda_value *theta) ; \n",
        "    theta= theta - alpha*sum_delta; \n",
        "    cost_history[i] = compute_cost(X, y, theta)\n",
        "    cost_history2[i] = compute_cost(X1, y1, theta) \n",
        " \n",
        "  return theta, cost_history , cost_history2"
      ],
      "metadata": {
        "id": "ElIJptSbo4q7"
      },
      "execution_count": 29,
      "outputs": []
    },
    {
      "cell_type": "code",
      "source": [
        "theta = [0.,0.,0.,0.,0.,0.] \n",
        "iterations = 100; \n",
        "alpha =0.01;"
      ],
      "metadata": {
        "id": "nw46QTEwo7MH"
      },
      "execution_count": 30,
      "outputs": []
    },
    {
      "cell_type": "code",
      "source": [
        "theta, cost_history_a, cost_history_a2 = gradient_descent(X_train, X_test, y_train, y_test, theta, alpha, iterations) \n",
        "print('Final value of theta =', theta) \n",
        "print('cost_history =', cost_history_a[-1],cost_history_a2[-1]) "
      ],
      "metadata": {
        "id": "0CnXrbpAo7PR",
        "colab": {
          "base_uri": "https://localhost:8080/"
        },
        "outputId": "87e4892d-2397-4639-d769-239e22efa156"
      },
      "execution_count": 31,
      "outputs": [
        {
          "output_type": "stream",
          "name": "stdout",
          "text": [
            "Final value of theta = [1.24007952e-16 2.45715490e-01 1.34956751e-01 2.14138644e-01\n",
            " 1.69996282e-01 1.50109848e-01]\n",
            "cost_history = 0.1941303719398485 0.044832259115044557\n"
          ]
        }
      ]
    },
    {
      "cell_type": "code",
      "source": [
        "plt.plot(range(1, iterations + 1),cost_history_a, color='blue') \n",
        "plt.plot(range(1, iterations + 1),cost_history_a2, color='green') \n",
        "plt.rcParams[\"figure.figsize\"] = (10,6) \n",
        "plt.grid() \n",
        "plt.xlabel('Number of iterations') \n",
        "plt.ylabel('Cost (J)') \n",
        "plt.title('Convergence of gradient descent') "
      ],
      "metadata": {
        "id": "bOjObeRZo7ad",
        "colab": {
          "base_uri": "https://localhost:8080/",
          "height": 422
        },
        "outputId": "59694a67-3c52-49fc-a73a-b9216ec8babe"
      },
      "execution_count": 32,
      "outputs": [
        {
          "output_type": "execute_result",
          "data": {
            "text/plain": [
              "Text(0.5, 1.0, 'Convergence of gradient descent')"
            ]
          },
          "metadata": {},
          "execution_count": 32
        },
        {
          "output_type": "display_data",
          "data": {
            "text/plain": [
              "<Figure size 720x432 with 1 Axes>"
            ],
            "image/png": "[encoded data removed]"
          },
          "metadata": {
            "needs_background": "light"
          }
        }
      ]
    }
  ]
}