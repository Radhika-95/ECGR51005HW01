{
  "nbformat": 4,
  "nbformat_minor": 0,
  "metadata": {
    "colab": {
      "provenance": []
    },
    "kernelspec": {
      "name": "python3",
      "display_name": "Python 3"
    },
    "language_info": {
      "name": "python"
    }
  },
  "cells": [
    {
      "cell_type": "code",
      "execution_count": 19,
      "metadata": {
        "id": "C8PYYtU2Y_Eu"
      },
      "outputs": [],
      "source": [
        "import numpy as np \n",
        "import pandas as pd \n",
        "import matplotlib.pyplot as plt \n",
        "from sklearn.model_selection import train_test_split"
      ]
    },
    {
      "cell_type": "code",
      "source": [
        "df = pd.read_csv('/content/sample_data/Housing.csv')\n",
        "print(df)\n",
        "df.head() # To get first n rows from the dataset default value of n is 5 \n",
        "M=len(df) \n",
        "M"
      ],
      "metadata": {
        "colab": {
          "base_uri": "https://localhost:8080/"
        },
        "id": "LPNVWWNZgzmw",
        "outputId": "974ce70b-893c-4150-e4a4-e2681718aadd"
      },
      "execution_count": 20,
      "outputs": [
        {
          "output_type": "stream",
          "name": "stdout",
          "text": [
            "        price  area  bedrooms  bathrooms  stories mainroad guestroom basement  \\\n",
            "0    13300000  7420         4          2        3      yes        no       no   \n",
            "1    12250000  8960         4          4        4      yes        no       no   \n",
            "2    12250000  9960         3          2        2      yes        no      yes   \n",
            "3    12215000  7500         4          2        2      yes        no      yes   \n",
            "4    11410000  7420         4          1        2      yes       yes      yes   \n",
            "..        ...   ...       ...        ...      ...      ...       ...      ...   \n",
            "540   1820000  3000         2          1        1      yes        no      yes   \n",
            "541   1767150  2400         3          1        1       no        no       no   \n",
            "542   1750000  3620         2          1        1      yes        no       no   \n",
            "543   1750000  2910         3          1        1       no        no       no   \n",
            "544   1750000  3850         3          1        2      yes        no       no   \n",
            "\n",
            "    hotwaterheating airconditioning  parking prefarea furnishingstatus  \n",
            "0                no             yes        2      yes        furnished  \n",
            "1                no             yes        3       no        furnished  \n",
            "2                no              no        2      yes   semi-furnished  \n",
            "3                no             yes        3      yes        furnished  \n",
            "4                no             yes        2       no        furnished  \n",
            "..              ...             ...      ...      ...              ...  \n",
            "540              no              no        2       no      unfurnished  \n",
            "541              no              no        0       no   semi-furnished  \n",
            "542              no              no        0       no      unfurnished  \n",
            "543              no              no        0       no        furnished  \n",
            "544              no              no        0       no      unfurnished  \n",
            "\n",
            "[545 rows x 13 columns]\n"
          ]
        },
        {
          "output_type": "execute_result",
          "data": {
            "text/plain": [
              "545"
            ]
          },
          "metadata": {},
          "execution_count": 20
        }
      ]
    },
    {
      "cell_type": "code",
      "source": [
        "# You can see that your dataset has many columns with values as 'Yes' or 'No'\n",
        "# But in order to fit a regression Line, we would need numerical values \n",
        "\n",
        "num_vars_b = ['mainroad', 'guestroom', 'basement', 'hotwaterheating', 'airconditioning', 'prefarea']\n",
        "# Defining the map function\n",
        "def binary_map (v1) :\n",
        " return v1.map({'yes' : 1, \"no\": 0})\n",
        "# Applying the function to the housing List\n",
        "df[num_vars_b] = df[num_vars_b] . apply(binary_map)\n",
        "#Check the housing dataframe now\n",
        "df.head()"
      ],
      "metadata": {
        "colab": {
          "base_uri": "https://localhost:8080/",
          "height": 270
        },
        "id": "Pkto1DMyg2Pi",
        "outputId": "7afd2c8b-23f2-45b3-967f-a7ca870f43b4"
      },
      "execution_count": 21,
      "outputs": [
        {
          "output_type": "execute_result",
          "data": {
            "text/plain": [
              "      price  area  bedrooms  bathrooms  stories  mainroad  guestroom  \\\n",
              "0  13300000  7420         4          2        3         1          0   \n",
              "1  12250000  8960         4          4        4         1          0   \n",
              "2  12250000  9960         3          2        2         1          0   \n",
              "3  12215000  7500         4          2        2         1          0   \n",
              "4  11410000  7420         4          1        2         1          1   \n",
              "\n",
              "   basement  hotwaterheating  airconditioning  parking  prefarea  \\\n",
              "0         0                0                1        2         1   \n",
              "1         0                0                1        3         0   \n",
              "2         1                0                0        2         1   \n",
              "3         1                0                1        3         1   \n",
              "4         1                0                1        2         0   \n",
              "\n",
              "  furnishingstatus  \n",
              "0        furnished  \n",
              "1        furnished  \n",
              "2   semi-furnished  \n",
              "3        furnished  \n",
              "4        furnished  "
            ],
            "text/html": [
              "\n",
              "  <div id=\"df-50162b0d-0d2b-440c-bfa5-b8498be8c805\">\n",
              "    <div class=\"colab-df-container\">\n",
              "      <div>\n",
              "<style scoped>\n",
              "    .dataframe tbody tr th:only-of-type {\n",
              "        vertical-align: middle;\n",
              "    }\n",
              "\n",
              "    .dataframe tbody tr th {\n",
              "        vertical-align: top;\n",
              "    }\n",
              "\n",
              "    .dataframe thead th {\n",
              "        text-align: right;\n",
              "    }\n",
              "</style>\n",
              "<table border=\"1\" class=\"dataframe\">\n",
              "  <thead>\n",
              "    <tr style=\"text-align: right;\">\n",
              "      <th></th>\n",
              "      <th>price</th>\n",
              "      <th>area</th>\n",
              "      <th>bedrooms</th>\n",
              "      <th>bathrooms</th>\n",
              "      <th>stories</th>\n",
              "      <th>mainroad</th>\n",
              "      <th>guestroom</th>\n",
              "      <th>basement</th>\n",
              "      <th>hotwaterheating</th>\n",
              "      <th>airconditioning</th>\n",
              "      <th>parking</th>\n",
              "      <th>prefarea</th>\n",
              "      <th>furnishingstatus</th>\n",
              "    </tr>\n",
              "  </thead>\n",
              "  <tbody>\n",
              "    <tr>\n",
              "      <th>0</th>\n",
              "      <td>13300000</td>\n",
              "      <td>7420</td>\n",
              "      <td>4</td>\n",
              "      <td>2</td>\n",
              "      <td>3</td>\n",
              "      <td>1</td>\n",
              "      <td>0</td>\n",
              "      <td>0</td>\n",
              "      <td>0</td>\n",
              "      <td>1</td>\n",
              "      <td>2</td>\n",
              "      <td>1</td>\n",
              "      <td>furnished</td>\n",
              "    </tr>\n",
              "    <tr>\n",
              "      <th>1</th>\n",
              "      <td>12250000</td>\n",
              "      <td>8960</td>\n",
              "      <td>4</td>\n",
              "      <td>4</td>\n",
              "      <td>4</td>\n",
              "      <td>1</td>\n",
              "      <td>0</td>\n",
              "      <td>0</td>\n",
              "      <td>0</td>\n",
              "      <td>1</td>\n",
              "      <td>3</td>\n",
              "      <td>0</td>\n",
              "      <td>furnished</td>\n",
              "    </tr>\n",
              "    <tr>\n",
              "      <th>2</th>\n",
              "      <td>12250000</td>\n",
              "      <td>9960</td>\n",
              "      <td>3</td>\n",
              "      <td>2</td>\n",
              "      <td>2</td>\n",
              "      <td>1</td>\n",
              "      <td>0</td>\n",
              "      <td>1</td>\n",
              "      <td>0</td>\n",
              "      <td>0</td>\n",
              "      <td>2</td>\n",
              "      <td>1</td>\n",
              "      <td>semi-furnished</td>\n",
              "    </tr>\n",
              "    <tr>\n",
              "      <th>3</th>\n",
              "      <td>12215000</td>\n",
              "      <td>7500</td>\n",
              "      <td>4</td>\n",
              "      <td>2</td>\n",
              "      <td>2</td>\n",
              "      <td>1</td>\n",
              "      <td>0</td>\n",
              "      <td>1</td>\n",
              "      <td>0</td>\n",
              "      <td>1</td>\n",
              "      <td>3</td>\n",
              "      <td>1</td>\n",
              "      <td>furnished</td>\n",
              "    </tr>\n",
              "    <tr>\n",
              "      <th>4</th>\n",
              "      <td>11410000</td>\n",
              "      <td>7420</td>\n",
              "      <td>4</td>\n",
              "      <td>1</td>\n",
              "      <td>2</td>\n",
              "      <td>1</td>\n",
              "      <td>1</td>\n",
              "      <td>1</td>\n",
              "      <td>0</td>\n",
              "      <td>1</td>\n",
              "      <td>2</td>\n",
              "      <td>0</td>\n",
              "      <td>furnished</td>\n",
              "    </tr>\n",
              "  </tbody>\n",
              "</table>\n",
              "</div>\n",
              "      <button class=\"colab-df-convert\" onclick=\"convertToInteractive('df-50162b0d-0d2b-440c-bfa5-b8498be8c805')\"\n",
              "              title=\"Convert this dataframe to an interactive table.\"\n",
              "              style=\"display:none;\">\n",
              "        \n",
              "  <svg xmlns=\"http://www.w3.org/2000/svg\" height=\"24px\"viewBox=\"0 0 24 24\"\n",
              "       width=\"24px\">\n",
              "    <path d=\"M0 0h24v24H0V0z\" fill=\"none\"/>\n",
              "    <path d=\"M18.56 5.44l.94 2.06.94-2.06 2.06-.94-2.06-.94-.94-2.06-.94 2.06-2.06.94zm-11 1L8.5 8.5l.94-2.06 2.06-.94-2.06-.94L8.5 2.5l-.94 2.06-2.06.94zm10 10l.94 2.06.94-2.06 2.06-.94-2.06-.94-.94-2.06-.94 2.06-2.06.94z\"/><path d=\"M17.41 7.96l-1.37-1.37c-.4-.4-.92-.59-1.43-.59-.52 0-1.04.2-1.43.59L10.3 9.45l-7.72 7.72c-.78.78-.78 2.05 0 2.83L4 21.41c.39.39.9.59 1.41.59.51 0 1.02-.2 1.41-.59l7.78-7.78 2.81-2.81c.8-.78.8-2.07 0-2.86zM5.41 20L4 18.59l7.72-7.72 1.47 1.35L5.41 20z\"/>\n",
              "  </svg>\n",
              "      </button>\n",
              "      \n",
              "  <style>\n",
              "    .colab-df-container {\n",
              "      display:flex;\n",
              "      flex-wrap:wrap;\n",
              "      gap: 12px;\n",
              "    }\n",
              "\n",
              "    .colab-df-convert {\n",
              "      background-color: #E8F0FE;\n",
              "      border: none;\n",
              "      border-radius: 50%;\n",
              "      cursor: pointer;\n",
              "      display: none;\n",
              "      fill: #1967D2;\n",
              "      height: 32px;\n",
              "      padding: 0 0 0 0;\n",
              "      width: 32px;\n",
              "    }\n",
              "\n",
              "    .colab-df-convert:hover {\n",
              "      background-color: #E2EBFA;\n",
              "      box-shadow: 0px 1px 2px rgba(60, 64, 67, 0.3), 0px 1px 3px 1px rgba(60, 64, 67, 0.15);\n",
              "      fill: #174EA6;\n",
              "    }\n",
              "\n",
              "    [theme=dark] .colab-df-convert {\n",
              "      background-color: #3B4455;\n",
              "      fill: #D2E3FC;\n",
              "    }\n",
              "\n",
              "    [theme=dark] .colab-df-convert:hover {\n",
              "      background-color: #434B5C;\n",
              "      box-shadow: 0px 1px 3px 1px rgba(0, 0, 0, 0.15);\n",
              "      filter: drop-shadow(0px 1px 2px rgba(0, 0, 0, 0.3));\n",
              "      fill: #FFFFFF;\n",
              "    }\n",
              "  </style>\n",
              "\n",
              "      <script>\n",
              "        const buttonEl =\n",
              "          document.querySelector('#df-50162b0d-0d2b-440c-bfa5-b8498be8c805 button.colab-df-convert');\n",
              "        buttonEl.style.display =\n",
              "          google.colab.kernel.accessAllowed ? 'block' : 'none';\n",
              "\n",
              "        async function convertToInteractive(key) {\n",
              "          const element = document.querySelector('#df-50162b0d-0d2b-440c-bfa5-b8498be8c805');\n",
              "          const dataTable =\n",
              "            await google.colab.kernel.invokeFunction('convertToInteractive',\n",
              "                                                     [key], {});\n",
              "          if (!dataTable) return;\n",
              "\n",
              "          const docLinkHtml = 'Like what you see? Visit the ' +\n",
              "            '<a target=\"_blank\" href=https://colab.research.google.com/notebooks/data_table.ipynb>data table notebook</a>'\n",
              "            + ' to learn more about interactive tables.';\n",
              "          element.innerHTML = '';\n",
              "          dataTable['output_type'] = 'display_data';\n",
              "          await google.colab.output.renderOutput(dataTable, element);\n",
              "          const docLink = document.createElement('div');\n",
              "          docLink.innerHTML = docLinkHtml;\n",
              "          element.appendChild(docLink);\n",
              "        }\n",
              "      </script>\n",
              "    </div>\n",
              "  </div>\n",
              "  "
            ]
          },
          "metadata": {},
          "execution_count": 21
        }
      ]
    },
    {
      "cell_type": "code",
      "source": [
        "df = df.drop(labels = \"furnishingstatus\", axis=1)\n",
        "df.head()"
      ],
      "metadata": {
        "colab": {
          "base_uri": "https://localhost:8080/",
          "height": 270
        },
        "id": "fVob_hGog21N",
        "outputId": "14f8d8a2-a06f-4ff8-f89a-e30f47feef6a"
      },
      "execution_count": 22,
      "outputs": [
        {
          "output_type": "execute_result",
          "data": {
            "text/plain": [
              "      price  area  bedrooms  bathrooms  stories  mainroad  guestroom  \\\n",
              "0  13300000  7420         4          2        3         1          0   \n",
              "1  12250000  8960         4          4        4         1          0   \n",
              "2  12250000  9960         3          2        2         1          0   \n",
              "3  12215000  7500         4          2        2         1          0   \n",
              "4  11410000  7420         4          1        2         1          1   \n",
              "\n",
              "   basement  hotwaterheating  airconditioning  parking  prefarea  \n",
              "0         0                0                1        2         1  \n",
              "1         0                0                1        3         0  \n",
              "2         1                0                0        2         1  \n",
              "3         1                0                1        3         1  \n",
              "4         1                0                1        2         0  "
            ],
            "text/html": [
              "\n",
              "  <div id=\"df-307bc49d-0d59-4860-9d77-8a16cd4aaccb\">\n",
              "    <div class=\"colab-df-container\">\n",
              "      <div>\n",
              "<style scoped>\n",
              "    .dataframe tbody tr th:only-of-type {\n",
              "        vertical-align: middle;\n",
              "    }\n",
              "\n",
              "    .dataframe tbody tr th {\n",
              "        vertical-align: top;\n",
              "    }\n",
              "\n",
              "    .dataframe thead th {\n",
              "        text-align: right;\n",
              "    }\n",
              "</style>\n",
              "<table border=\"1\" class=\"dataframe\">\n",
              "  <thead>\n",
              "    <tr style=\"text-align: right;\">\n",
              "      <th></th>\n",
              "      <th>price</th>\n",
              "      <th>area</th>\n",
              "      <th>bedrooms</th>\n",
              "      <th>bathrooms</th>\n",
              "      <th>stories</th>\n",
              "      <th>mainroad</th>\n",
              "      <th>guestroom</th>\n",
              "      <th>basement</th>\n",
              "      <th>hotwaterheating</th>\n",
              "      <th>airconditioning</th>\n",
              "      <th>parking</th>\n",
              "      <th>prefarea</th>\n",
              "    </tr>\n",
              "  </thead>\n",
              "  <tbody>\n",
              "    <tr>\n",
              "      <th>0</th>\n",
              "      <td>13300000</td>\n",
              "      <td>7420</td>\n",
              "      <td>4</td>\n",
              "      <td>2</td>\n",
              "      <td>3</td>\n",
              "      <td>1</td>\n",
              "      <td>0</td>\n",
              "      <td>0</td>\n",
              "      <td>0</td>\n",
              "      <td>1</td>\n",
              "      <td>2</td>\n",
              "      <td>1</td>\n",
              "    </tr>\n",
              "    <tr>\n",
              "      <th>1</th>\n",
              "      <td>12250000</td>\n",
              "      <td>8960</td>\n",
              "      <td>4</td>\n",
              "      <td>4</td>\n",
              "      <td>4</td>\n",
              "      <td>1</td>\n",
              "      <td>0</td>\n",
              "      <td>0</td>\n",
              "      <td>0</td>\n",
              "      <td>1</td>\n",
              "      <td>3</td>\n",
              "      <td>0</td>\n",
              "    </tr>\n",
              "    <tr>\n",
              "      <th>2</th>\n",
              "      <td>12250000</td>\n",
              "      <td>9960</td>\n",
              "      <td>3</td>\n",
              "      <td>2</td>\n",
              "      <td>2</td>\n",
              "      <td>1</td>\n",
              "      <td>0</td>\n",
              "      <td>1</td>\n",
              "      <td>0</td>\n",
              "      <td>0</td>\n",
              "      <td>2</td>\n",
              "      <td>1</td>\n",
              "    </tr>\n",
              "    <tr>\n",
              "      <th>3</th>\n",
              "      <td>12215000</td>\n",
              "      <td>7500</td>\n",
              "      <td>4</td>\n",
              "      <td>2</td>\n",
              "      <td>2</td>\n",
              "      <td>1</td>\n",
              "      <td>0</td>\n",
              "      <td>1</td>\n",
              "      <td>0</td>\n",
              "      <td>1</td>\n",
              "      <td>3</td>\n",
              "      <td>1</td>\n",
              "    </tr>\n",
              "    <tr>\n",
              "      <th>4</th>\n",
              "      <td>11410000</td>\n",
              "      <td>7420</td>\n",
              "      <td>4</td>\n",
              "      <td>1</td>\n",
              "      <td>2</td>\n",
              "      <td>1</td>\n",
              "      <td>1</td>\n",
              "      <td>1</td>\n",
              "      <td>0</td>\n",
              "      <td>1</td>\n",
              "      <td>2</td>\n",
              "      <td>0</td>\n",
              "    </tr>\n",
              "  </tbody>\n",
              "</table>\n",
              "</div>\n",
              "      <button class=\"colab-df-convert\" onclick=\"convertToInteractive('df-307bc49d-0d59-4860-9d77-8a16cd4aaccb')\"\n",
              "              title=\"Convert this dataframe to an interactive table.\"\n",
              "              style=\"display:none;\">\n",
              "        \n",
              "  <svg xmlns=\"http://www.w3.org/2000/svg\" height=\"24px\"viewBox=\"0 0 24 24\"\n",
              "       width=\"24px\">\n",
              "    <path d=\"M0 0h24v24H0V0z\" fill=\"none\"/>\n",
              "    <path d=\"M18.56 5.44l.94 2.06.94-2.06 2.06-.94-2.06-.94-.94-2.06-.94 2.06-2.06.94zm-11 1L8.5 8.5l.94-2.06 2.06-.94-2.06-.94L8.5 2.5l-.94 2.06-2.06.94zm10 10l.94 2.06.94-2.06 2.06-.94-2.06-.94-.94-2.06-.94 2.06-2.06.94z\"/><path d=\"M17.41 7.96l-1.37-1.37c-.4-.4-.92-.59-1.43-.59-.52 0-1.04.2-1.43.59L10.3 9.45l-7.72 7.72c-.78.78-.78 2.05 0 2.83L4 21.41c.39.39.9.59 1.41.59.51 0 1.02-.2 1.41-.59l7.78-7.78 2.81-2.81c.8-.78.8-2.07 0-2.86zM5.41 20L4 18.59l7.72-7.72 1.47 1.35L5.41 20z\"/>\n",
              "  </svg>\n",
              "      </button>\n",
              "      \n",
              "  <style>\n",
              "    .colab-df-container {\n",
              "      display:flex;\n",
              "      flex-wrap:wrap;\n",
              "      gap: 12px;\n",
              "    }\n",
              "\n",
              "    .colab-df-convert {\n",
              "      background-color: #E8F0FE;\n",
              "      border: none;\n",
              "      border-radius: 50%;\n",
              "      cursor: pointer;\n",
              "      display: none;\n",
              "      fill: #1967D2;\n",
              "      height: 32px;\n",
              "      padding: 0 0 0 0;\n",
              "      width: 32px;\n",
              "    }\n",
              "\n",
              "    .colab-df-convert:hover {\n",
              "      background-color: #E2EBFA;\n",
              "      box-shadow: 0px 1px 2px rgba(60, 64, 67, 0.3), 0px 1px 3px 1px rgba(60, 64, 67, 0.15);\n",
              "      fill: #174EA6;\n",
              "    }\n",
              "\n",
              "    [theme=dark] .colab-df-convert {\n",
              "      background-color: #3B4455;\n",
              "      fill: #D2E3FC;\n",
              "    }\n",
              "\n",
              "    [theme=dark] .colab-df-convert:hover {\n",
              "      background-color: #434B5C;\n",
              "      box-shadow: 0px 1px 3px 1px rgba(0, 0, 0, 0.15);\n",
              "      filter: drop-shadow(0px 1px 2px rgba(0, 0, 0, 0.3));\n",
              "      fill: #FFFFFF;\n",
              "    }\n",
              "  </style>\n",
              "\n",
              "      <script>\n",
              "        const buttonEl =\n",
              "          document.querySelector('#df-307bc49d-0d59-4860-9d77-8a16cd4aaccb button.colab-df-convert');\n",
              "        buttonEl.style.display =\n",
              "          google.colab.kernel.accessAllowed ? 'block' : 'none';\n",
              "\n",
              "        async function convertToInteractive(key) {\n",
              "          const element = document.querySelector('#df-307bc49d-0d59-4860-9d77-8a16cd4aaccb');\n",
              "          const dataTable =\n",
              "            await google.colab.kernel.invokeFunction('convertToInteractive',\n",
              "                                                     [key], {});\n",
              "          if (!dataTable) return;\n",
              "\n",
              "          const docLinkHtml = 'Like what you see? Visit the ' +\n",
              "            '<a target=\"_blank\" href=https://colab.research.google.com/notebooks/data_table.ipynb>data table notebook</a>'\n",
              "            + ' to learn more about interactive tables.';\n",
              "          element.innerHTML = '';\n",
              "          dataTable['output_type'] = 'display_data';\n",
              "          await google.colab.output.renderOutput(dataTable, element);\n",
              "          const docLink = document.createElement('div');\n",
              "          docLink.innerHTML = docLinkHtml;\n",
              "          element.appendChild(docLink);\n",
              "        }\n",
              "      </script>\n",
              "    </div>\n",
              "  </div>\n",
              "  "
            ]
          },
          "metadata": {},
          "execution_count": 22
        }
      ]
    },
    {
      "cell_type": "code",
      "source": [
        "z= df.iloc[:,0:12]  # get input values from first column \n",
        "#y = df.iloc[:, 0]  # get output values from second column \n",
        "m = len(z) # Number of training examples \n",
        "print('Z = ', z[:10]) # Show only first 5 records \n",
        "#print('y = ', y[:10]) \n",
        "print('m = ', m) \n",
        "z.shape"
      ],
      "metadata": {
        "colab": {
          "base_uri": "https://localhost:8080/"
        },
        "id": "7cWB06Qgg24v",
        "outputId": "2ec8d261-bf69-429c-bf81-11c14db05f49"
      },
      "execution_count": 23,
      "outputs": [
        {
          "output_type": "stream",
          "name": "stdout",
          "text": [
            "Z =        price   area  bedrooms  bathrooms  stories  mainroad  guestroom  \\\n",
            "0  13300000   7420         4          2        3         1          0   \n",
            "1  12250000   8960         4          4        4         1          0   \n",
            "2  12250000   9960         3          2        2         1          0   \n",
            "3  12215000   7500         4          2        2         1          0   \n",
            "4  11410000   7420         4          1        2         1          1   \n",
            "5  10850000   7500         3          3        1         1          0   \n",
            "6  10150000   8580         4          3        4         1          0   \n",
            "7  10150000  16200         5          3        2         1          0   \n",
            "8   9870000   8100         4          1        2         1          1   \n",
            "9   9800000   5750         3          2        4         1          1   \n",
            "\n",
            "   basement  hotwaterheating  airconditioning  parking  prefarea  \n",
            "0         0                0                1        2         1  \n",
            "1         0                0                1        3         0  \n",
            "2         1                0                0        2         1  \n",
            "3         1                0                1        3         1  \n",
            "4         1                0                1        2         0  \n",
            "5         1                0                1        2         1  \n",
            "6         0                0                1        2         1  \n",
            "7         0                0                0        0         0  \n",
            "8         1                0                1        2         1  \n",
            "9         0                0                1        1         1  \n",
            "m =  545\n"
          ]
        },
        {
          "output_type": "execute_result",
          "data": {
            "text/plain": [
              "(545, 12)"
            ]
          },
          "metadata": {},
          "execution_count": 23
        }
      ]
    },
    {
      "cell_type": "code",
      "source": [
        "# using the train test split function\n",
        "z_train, z_test = train_test_split(z, random_state = 0, train_size = .8)\n",
        "\n",
        "print(f\"No. of training examples: {z_train.shape[0]}\")\n",
        "print(f\"No. of testing examples: {z_test.shape[0]}\")\n",
        "\n",
        "#print(f\"No. of training examples: {y_train.shape[0]}\")\n",
        "#print(f\"No. of testing examples: {y_test.shape[0]}\")"
      ],
      "metadata": {
        "colab": {
          "base_uri": "https://localhost:8080/"
        },
        "id": "0_oqVq-qg27g",
        "outputId": "8dd6aaf6-a846-43f4-dcfd-c6fdedc99ba5"
      },
      "execution_count": 24,
      "outputs": [
        {
          "output_type": "stream",
          "name": "stdout",
          "text": [
            "No. of training examples: 436\n",
            "No. of testing examples: 109\n"
          ]
        }
      ]
    },
    {
      "cell_type": "code",
      "source": [
        "import warnings\n",
        "warnings. filterwarnings( 'ignore' )\n",
        "from sklearn. preprocessing import MinMaxScaler, StandardScaler\n",
        "\n",
        "scaler = StandardScaler()\n",
        "\n",
        "#scaler = MinMaxScaler()\n",
        "z_train= scaler.fit_transform(z_train)\n",
        "z_test= scaler.fit_transform(z_test)\n",
        "print('z_train = ', z_train[:10]) # Show only first 5 records \n",
        "print('z_test = ', z_test[:10]) "
      ],
      "metadata": {
        "colab": {
          "base_uri": "https://localhost:8080/"
        },
        "id": "Xck24Gmjg3A9",
        "outputId": "acc9683f-6b49-4e00-b717-6c000ee1ebea"
      },
      "execution_count": 25,
      "outputs": [
        {
          "output_type": "stream",
          "name": "stdout",
          "text": [
            "z_train =  [[-1.5860012  -0.71677205 -1.29437561 -0.57330726 -0.93314164  0.39559913\n",
            "  -0.46312491 -0.69860905 -0.20142689 -0.69135093 -0.81914879 -0.57028761]\n",
            " [-1.09097091 -0.53893631 -1.29437561 -0.57330726 -0.93314164  0.39559913\n",
            "  -0.46312491 -0.69860905 -0.20142689 -0.69135093 -0.81914879 -0.57028761]\n",
            " [-0.99929863 -0.98820554 -1.29437561 -0.57330726 -0.93314164 -2.52781141\n",
            "  -0.46312491 -0.69860905 -0.20142689 -0.69135093 -0.81914879 -0.57028761]\n",
            " [-1.14597428 -0.72613182 -1.29437561 -0.57330726 -0.93314164  0.39559913\n",
            "  -0.46312491 -0.69860905 -0.20142689 -0.69135093 -0.81914879 -0.57028761]\n",
            " [-0.13757923  2.20347795  0.05251643 -0.57330726 -0.93314164  0.39559913\n",
            "  -0.46312491 -0.69860905 -0.20142689 -0.69135093 -0.81914879 -0.57028761]\n",
            " [-0.1925826  -0.55391195  0.05251643 -0.57330726  0.21291401 -2.52781141\n",
            "  -0.46312491 -0.69860905 -0.20142689 -0.69135093 -0.81914879 -0.57028761]\n",
            " [-0.10091032 -0.61381451  0.05251643 -0.57330726  0.21291401  0.39559913\n",
            "  -0.46312491 -0.69860905 -0.20142689 -0.69135093  0.32555914  1.75350117]\n",
            " [ 0.24744433  2.17539862  1.39940847  1.4755613   0.21291401  0.39559913\n",
            "   2.1592447  -0.69860905 -0.20142689 -0.69135093  1.47026706 -0.57028761]\n",
            " [-0.63260953 -0.70741227 -1.29437561 -0.57330726 -0.93314164  0.39559913\n",
            "  -0.46312491 -0.69860905 -0.20142689 -0.69135093 -0.81914879 -0.57028761]\n",
            " [-0.59594061 -0.76357092 -1.29437561  1.4755613  -0.93314164  0.39559913\n",
            "  -0.46312491  1.43141575 -0.20142689 -0.69135093 -0.81914879 -0.57028761]]\n",
            "z_test =  [[-0.08135801 -0.50073521  0.02560738 -0.56354451  0.27241586  0.44474959\n",
            "  -0.47404546 -0.88706553 -0.28143902 -0.63042517  0.49214421 -0.48850421]\n",
            " [ 0.80111439  1.95422869  0.02560738 -0.56354451 -0.91531729  0.44474959\n",
            "  -0.47404546  1.12731244 -0.28143902 -0.63042517  1.73967255  2.04706526]\n",
            " [-0.42156349 -0.73662142  1.42120937 -0.56354451  0.27241586  0.44474959\n",
            "  -0.47404546 -0.88706553 -0.28143902  1.58623108 -0.75538413 -0.48850421]\n",
            " [ 1.30008243  3.5180669  -1.36999462 -0.56354451 -0.91531729  0.44474959\n",
            "  -0.47404546  1.12731244  3.5531676  -0.63042517  0.49214421 -0.48850421]\n",
            " [-1.05042817 -0.64925616  1.42120937 -0.56354451  0.27241586 -2.24845626\n",
            "  -0.47404546 -0.88706553 -0.28143902 -0.63042517 -0.75538413 -0.48850421]\n",
            " [ 0.86709364  0.52580664  0.02560738  1.2431129   1.46014902  0.44474959\n",
            "   2.10950231 -0.88706553 -0.28143902  1.58623108 -0.75538413 -0.48850421]\n",
            " [-0.69991343 -0.56625916  0.02560738 -0.56354451 -0.91531729  0.44474959\n",
            "  -0.47404546 -0.88706553 -0.28143902 -0.63042517  1.73967255 -0.48850421]\n",
            " [-1.05042817 -0.72788489  0.02560738 -0.56354451  0.27241586 -2.24845626\n",
            "  -0.47404546 -0.88706553 -0.28143902 -0.63042517  0.49214421 -0.48850421]\n",
            " [-0.72053194 -0.71390645 -1.36999462 -0.56354451 -0.91531729  0.44474959\n",
            "  -0.47404546 -0.88706553 -0.28143902 -0.63042517  0.49214421  2.04706526]\n",
            " [ 1.91863786  1.68339637  1.42120937  1.2431129   2.64788217  0.44474959\n",
            "  -0.47404546 -0.88706553 -0.28143902  1.58623108  1.73967255 -0.48850421]]\n"
          ]
        }
      ]
    },
    {
      "cell_type": "code",
      "source": [
        "X_train= z_train[:,1:12]  # get input values from first column \n",
        "y_train =z_train[:, 0]  # get output values from second column \n",
        "X_test= z_test[:,1:12]  # get input values from first column \n",
        "y_test =z_test[:, 0]  # get output values from second column \n",
        "\n",
        "print('X = ', X_train[:10]) # Show only first 5 records \n",
        "print('y ', y_train[:10]) \n",
        "X_train.shape\n"
      ],
      "metadata": {
        "colab": {
          "base_uri": "https://localhost:8080/"
        },
        "id": "ix3opmmFg3Dz",
        "outputId": "52ee222f-e79b-4c00-f184-a5fc84a0a9dc"
      },
      "execution_count": 26,
      "outputs": [
        {
          "output_type": "stream",
          "name": "stdout",
          "text": [
            "X =  [[-0.71677205 -1.29437561 -0.57330726 -0.93314164  0.39559913 -0.46312491\n",
            "  -0.69860905 -0.20142689 -0.69135093 -0.81914879 -0.57028761]\n",
            " [-0.53893631 -1.29437561 -0.57330726 -0.93314164  0.39559913 -0.46312491\n",
            "  -0.69860905 -0.20142689 -0.69135093 -0.81914879 -0.57028761]\n",
            " [-0.98820554 -1.29437561 -0.57330726 -0.93314164 -2.52781141 -0.46312491\n",
            "  -0.69860905 -0.20142689 -0.69135093 -0.81914879 -0.57028761]\n",
            " [-0.72613182 -1.29437561 -0.57330726 -0.93314164  0.39559913 -0.46312491\n",
            "  -0.69860905 -0.20142689 -0.69135093 -0.81914879 -0.57028761]\n",
            " [ 2.20347795  0.05251643 -0.57330726 -0.93314164  0.39559913 -0.46312491\n",
            "  -0.69860905 -0.20142689 -0.69135093 -0.81914879 -0.57028761]\n",
            " [-0.55391195  0.05251643 -0.57330726  0.21291401 -2.52781141 -0.46312491\n",
            "  -0.69860905 -0.20142689 -0.69135093 -0.81914879 -0.57028761]\n",
            " [-0.61381451  0.05251643 -0.57330726  0.21291401  0.39559913 -0.46312491\n",
            "  -0.69860905 -0.20142689 -0.69135093  0.32555914  1.75350117]\n",
            " [ 2.17539862  1.39940847  1.4755613   0.21291401  0.39559913  2.1592447\n",
            "  -0.69860905 -0.20142689 -0.69135093  1.47026706 -0.57028761]\n",
            " [-0.70741227 -1.29437561 -0.57330726 -0.93314164  0.39559913 -0.46312491\n",
            "  -0.69860905 -0.20142689 -0.69135093 -0.81914879 -0.57028761]\n",
            " [-0.76357092 -1.29437561  1.4755613  -0.93314164  0.39559913 -0.46312491\n",
            "   1.43141575 -0.20142689 -0.69135093 -0.81914879 -0.57028761]]\n",
            "y  [-1.5860012  -1.09097091 -0.99929863 -1.14597428 -0.13757923 -0.1925826\n",
            " -0.10091032  0.24744433 -0.63260953 -0.59594061]\n"
          ]
        },
        {
          "output_type": "execute_result",
          "data": {
            "text/plain": [
              "(436, 11)"
            ]
          },
          "metadata": {},
          "execution_count": 26
        }
      ]
    },
    {
      "cell_type": "code",
      "source": [
        "#Lets create a matrix with single column of ones \n",
        "X_0 = np.ones((436, 1)) \n",
        "X_2 = np.ones((109,1))"
      ],
      "metadata": {
        "id": "WDAx1HTjhITq"
      },
      "execution_count": 27,
      "outputs": []
    },
    {
      "cell_type": "code",
      "source": [
        "# Using reshape function convert X 1D array to 2D array of dimension 100X1 \n",
        "X_1 = X_train.reshape(436,11) \n",
        "X_3 = X_test.reshape(109,11)\n",
        "X_1[:10] \n",
        "X_3[:10]"
      ],
      "metadata": {
        "colab": {
          "base_uri": "https://localhost:8080/"
        },
        "id": "iSnIwTc9hIW1",
        "outputId": "e2c75499-4565-471f-b587-ef36030ee5e0"
      },
      "execution_count": 28,
      "outputs": [
        {
          "output_type": "execute_result",
          "data": {
            "text/plain": [
              "array([[-0.50073521,  0.02560738, -0.56354451,  0.27241586,  0.44474959,\n",
              "        -0.47404546, -0.88706553, -0.28143902, -0.63042517,  0.49214421,\n",
              "        -0.48850421],\n",
              "       [ 1.95422869,  0.02560738, -0.56354451, -0.91531729,  0.44474959,\n",
              "        -0.47404546,  1.12731244, -0.28143902, -0.63042517,  1.73967255,\n",
              "         2.04706526],\n",
              "       [-0.73662142,  1.42120937, -0.56354451,  0.27241586,  0.44474959,\n",
              "        -0.47404546, -0.88706553, -0.28143902,  1.58623108, -0.75538413,\n",
              "        -0.48850421],\n",
              "       [ 3.5180669 , -1.36999462, -0.56354451, -0.91531729,  0.44474959,\n",
              "        -0.47404546,  1.12731244,  3.5531676 , -0.63042517,  0.49214421,\n",
              "        -0.48850421],\n",
              "       [-0.64925616,  1.42120937, -0.56354451,  0.27241586, -2.24845626,\n",
              "        -0.47404546, -0.88706553, -0.28143902, -0.63042517, -0.75538413,\n",
              "        -0.48850421],\n",
              "       [ 0.52580664,  0.02560738,  1.2431129 ,  1.46014902,  0.44474959,\n",
              "         2.10950231, -0.88706553, -0.28143902,  1.58623108, -0.75538413,\n",
              "        -0.48850421],\n",
              "       [-0.56625916,  0.02560738, -0.56354451, -0.91531729,  0.44474959,\n",
              "        -0.47404546, -0.88706553, -0.28143902, -0.63042517,  1.73967255,\n",
              "        -0.48850421],\n",
              "       [-0.72788489,  0.02560738, -0.56354451,  0.27241586, -2.24845626,\n",
              "        -0.47404546, -0.88706553, -0.28143902, -0.63042517,  0.49214421,\n",
              "        -0.48850421],\n",
              "       [-0.71390645, -1.36999462, -0.56354451, -0.91531729,  0.44474959,\n",
              "        -0.47404546, -0.88706553, -0.28143902, -0.63042517,  0.49214421,\n",
              "         2.04706526],\n",
              "       [ 1.68339637,  1.42120937,  1.2431129 ,  2.64788217,  0.44474959,\n",
              "        -0.47404546, -0.88706553, -0.28143902,  1.58623108,  1.73967255,\n",
              "        -0.48850421]])"
            ]
          },
          "metadata": {},
          "execution_count": 28
        }
      ]
    },
    {
      "cell_type": "code",
      "source": [
        "# Lets use hstack() function from numpy to stack X_0 and X_1 horizontally (i.e. column \n",
        "# This will be our final X matrix (feature matrix) \n",
        "X_train = np.hstack((X_0, X_1)) \n",
        "X_test = np.hstack((X_2, X_3))"
      ],
      "metadata": {
        "id": "KwmkfUDlhIac"
      },
      "execution_count": 29,
      "outputs": []
    },
    {
      "cell_type": "code",
      "source": [
        "theta = np.zeros(12) \n",
        "theta"
      ],
      "metadata": {
        "colab": {
          "base_uri": "https://localhost:8080/"
        },
        "id": "e2NCfGOOhIoH",
        "outputId": "526b56e6-a11d-45fa-da85-584090c552ed"
      },
      "execution_count": 30,
      "outputs": [
        {
          "output_type": "execute_result",
          "data": {
            "text/plain": [
              "array([0., 0., 0., 0., 0., 0., 0., 0., 0., 0., 0., 0.])"
            ]
          },
          "metadata": {},
          "execution_count": 30
        }
      ]
    },
    {
      "cell_type": "code",
      "source": [
        "def compute_cost(X, y, theta): \n",
        "  \"\"\" \n",
        "  Compute cost for linear regression. \n",
        " \n",
        "  Input Parameters \n",
        "  ---------------- \n",
        "  X : 2D array where each row represent the training example and each column represent \n",
        "      m= number of training examples \n",
        "      n= number of features (including X_0 column of ones) \n",
        "  y : 1D array of labels/target value for each traing example. dimension(1 x m) \n",
        " \n",
        "  theta : 1D array of fitting parameters or weights. Dimension (1 x n) \n",
        " \n",
        "  Output Parameters \n",
        "  ----------------- \n",
        "  J : Scalar value. \n",
        "  \"\"\" \n",
        "  predictions = X.dot(theta) \n",
        "  errors = np.subtract(predictions, y) \n",
        "  sqrErrors = np.square(errors) \n",
        "  J = 1 / (2 * m) * np.sum(sqrErrors) \n",
        " \n",
        "  return J "
      ],
      "metadata": {
        "id": "h1If6ONyhUoX"
      },
      "execution_count": 31,
      "outputs": []
    },
    {
      "cell_type": "code",
      "source": [
        "# Lets compute the cost for theta values \n",
        "cost = compute_cost(X_train, y_train, theta) \n",
        "print('The cost for given values of theta_0 =',cost) "
      ],
      "metadata": {
        "colab": {
          "base_uri": "https://localhost:8080/"
        },
        "id": "g9bx5BOlhUrF",
        "outputId": "cce506a8-5047-46eb-c77f-4fdfb171a890"
      },
      "execution_count": 32,
      "outputs": [
        {
          "output_type": "stream",
          "name": "stdout",
          "text": [
            "The cost for given values of theta_0 = 0.4000000000000001\n"
          ]
        }
      ]
    },
    {
      "cell_type": "code",
      "source": [
        "def gradient_descent(X, X1, y, y1, theta, alpha, iterations): \n",
        "  \"\"\" \n",
        "  Compute cost for linear regression. \n",
        " \n",
        "  Input Parameters \n",
        "  ---------------- \n",
        "  X : 2D array where each row represent the training example and each column represent \n",
        "      m= number of training examples \n",
        "      n= number of features (including X_0 column of ones) \n",
        "  y : 1D array of labels/target value for each traing example. dimension(m x 1) \n",
        "  theta : 1D array of fitting parameters or weights. Dimension (1 x n) \n",
        "  alpha : Learning rate. Scalar value \n",
        "  iterations: No of iterations. Scalar value.  \n",
        " \n",
        "  Output Parameters \n",
        "  ----------------- \n",
        "  theta : Final Value. 1D array of fitting parameters or weights. Dimension (1 x n) \n",
        "  cost_history: Conatins value of cost for each iteration. 1D array. Dimansion(m x 1)\n",
        "  ef gradient_descent(X, y, theta, alpha, iterations): \n",
        "  \"\"\" \n",
        "  cost_history = np.zeros(iterations) \n",
        "  cost_history2 = np.zeros(iterations) \n",
        " \n",
        "  for i in range(iterations): \n",
        "    predictions = X.dot(theta) \n",
        "    errors = np.subtract(predictions, y) \n",
        "    sum_delta = (alpha /m) * X.transpose().dot(errors); \n",
        "    theta= theta - sum_delta; \n",
        "    cost_history[i] = compute_cost(X, y, theta)\n",
        "    cost_history2[i] = compute_cost(X1, y1, theta) \n",
        " \n",
        "  return theta, cost_history , cost_history2"
      ],
      "metadata": {
        "id": "X7JOUzR6hUuJ"
      },
      "execution_count": 33,
      "outputs": []
    },
    {
      "cell_type": "code",
      "source": [
        "theta = [0.,0.,0.,0.,0.,0.,0.,0.,0.,0.,0.,0.] \n",
        "iterations = 100; \n",
        "alpha =0.01;"
      ],
      "metadata": {
        "id": "ej3KOSvrha5L"
      },
      "execution_count": 34,
      "outputs": []
    },
    {
      "cell_type": "code",
      "source": [
        "theta, cost_history_a, cost_history_a2 = gradient_descent(X_train, X_test, y_train, y_test, theta, alpha, iterations) \n",
        "print('Final value of theta =', theta) \n",
        "print('cost_history =', cost_history_a[-1],cost_history_a2[-1]) "
      ],
      "metadata": {
        "colab": {
          "base_uri": "https://localhost:8080/"
        },
        "id": "YEHvxYTiha8d",
        "outputId": "6bd7fe17-f554-4aea-8716-b667f2d8e0cc"
      },
      "execution_count": 35,
      "outputs": [
        {
          "output_type": "stream",
          "name": "stdout",
          "text": [
            "Final value of theta = [1.25257602e-16 2.03979526e-01 1.15407416e-01 1.92108564e-01\n",
            " 1.51006170e-01 9.34131820e-02 9.24874859e-02 7.35077028e-02\n",
            " 6.47689380e-02 1.66436646e-01 1.25284867e-01 1.34256823e-01]\n",
            "cost_history = 0.14143253770857045 0.03559328506094593\n"
          ]
        }
      ]
    },
    {
      "cell_type": "code",
      "source": [
        "plt.plot(range(1, iterations + 1),cost_history_a, color='blue') \n",
        "plt.plot(range(1, iterations + 1),cost_history_a2, color='green') \n",
        "plt.rcParams[\"figure.figsize\"] = (10,6) \n",
        "plt.grid() \n",
        "plt.xlabel('Number of iterations') \n",
        "plt.ylabel('Cost (J)') \n",
        "plt.title('Convergence of gradient descent') "
      ],
      "metadata": {
        "colab": {
          "base_uri": "https://localhost:8080/",
          "height": 422
        },
        "id": "3onyPglIhgFF",
        "outputId": "bce491e2-0a2d-4034-a8a5-cae7fc9ab5be"
      },
      "execution_count": 36,
      "outputs": [
        {
          "output_type": "execute_result",
          "data": {
            "text/plain": [
              "Text(0.5, 1.0, 'Convergence of gradient descent')"
            ]
          },
          "metadata": {},
          "execution_count": 36
        },
        {
          "output_type": "display_data",
          "data": {
            "text/plain": [
              "<Figure size 720x432 with 1 Axes>"
            ],
            "image/png": "[encoded data removed]"
          },
          "metadata": {
            "needs_background": "light"
          }
        }
      ]
    }
  ]
}