{
  "nbformat": 4,
  "nbformat_minor": 0,
  "metadata": {
    "colab": {
      "provenance": []
    },
    "kernelspec": {
      "name": "python3",
      "display_name": "Python 3"
    },
    "language_info": {
      "name": "python"
    }
  },
  "cells": [
    {
      "cell_type": "code",
      "execution_count": 1,
      "metadata": {
        "id": "61vDMjvCAEMv"
      },
      "outputs": [],
      "source": [
        "import numpy as np \n",
        "import pandas as pd \n",
        "import matplotlib.pyplot as plt \n",
        "from sklearn.model_selection import train_test_split"
      ]
    },
    {
      "cell_type": "code",
      "source": [
        "df = pd.read_csv('/content/sample_data/Housing.csv')\n",
        "print(df)\n",
        "df.head() # To get first n rows from the dataset default value of n is 5 \n",
        "M=len(df) \n",
        "M"
      ],
      "metadata": {
        "colab": {
          "base_uri": "https://localhost:8080/"
        },
        "id": "VVZYKzdCApDM",
        "outputId": "73eb2e64-4080-404e-e750-101d7cc3c947"
      },
      "execution_count": 2,
      "outputs": [
        {
          "output_type": "stream",
          "name": "stdout",
          "text": [
            "        price  area  bedrooms  bathrooms  stories mainroad guestroom basement  \\\n",
            "0    13300000  7420         4          2        3      yes        no       no   \n",
            "1    12250000  8960         4          4        4      yes        no       no   \n",
            "2    12250000  9960         3          2        2      yes        no      yes   \n",
            "3    12215000  7500         4          2        2      yes        no      yes   \n",
            "4    11410000  7420         4          1        2      yes       yes      yes   \n",
            "..        ...   ...       ...        ...      ...      ...       ...      ...   \n",
            "540   1820000  3000         2          1        1      yes        no      yes   \n",
            "541   1767150  2400         3          1        1       no        no       no   \n",
            "542   1750000  3620         2          1        1      yes        no       no   \n",
            "543   1750000  2910         3          1        1       no        no       no   \n",
            "544   1750000  3850         3          1        2      yes        no       no   \n",
            "\n",
            "    hotwaterheating airconditioning  parking prefarea furnishingstatus  \n",
            "0                no             yes        2      yes        furnished  \n",
            "1                no             yes        3       no        furnished  \n",
            "2                no              no        2      yes   semi-furnished  \n",
            "3                no             yes        3      yes        furnished  \n",
            "4                no             yes        2       no        furnished  \n",
            "..              ...             ...      ...      ...              ...  \n",
            "540              no              no        2       no      unfurnished  \n",
            "541              no              no        0       no   semi-furnished  \n",
            "542              no              no        0       no      unfurnished  \n",
            "543              no              no        0       no        furnished  \n",
            "544              no              no        0       no      unfurnished  \n",
            "\n",
            "[545 rows x 13 columns]\n"
          ]
        },
        {
          "output_type": "execute_result",
          "data": {
            "text/plain": [
              "545"
            ]
          },
          "metadata": {},
          "execution_count": 2
        }
      ]
    },
    {
      "cell_type": "code",
      "source": [
        "# You can see that your dataset has many columns with values as 'Yes' or 'No'\n",
        "# But in order to fit a regression Line, we would need numerical values \n",
        "\n",
        "num_vars_b = ['mainroad', 'guestroom', 'basement', 'hotwaterheating', 'airconditioning', 'prefarea']\n",
        "# Defining the map function\n",
        "def binary_map (v1) :\n",
        " return v1.map({'yes' : 1, \"no\": 0})\n",
        "# Applying the function to the housing List\n",
        "df[num_vars_b] = df[num_vars_b] . apply(binary_map)\n",
        "#Check the housing dataframe now\n",
        "df.head()"
      ],
      "metadata": {
        "colab": {
          "base_uri": "https://localhost:8080/",
          "height": 270
        },
        "id": "FeD6z___ApGq",
        "outputId": "1b6e668a-bb8c-4765-b53e-be49f661c37c"
      },
      "execution_count": 3,
      "outputs": [
        {
          "output_type": "execute_result",
          "data": {
            "text/plain": [
              "      price  area  bedrooms  bathrooms  stories  mainroad  guestroom  \\\n",
              "0  13300000  7420         4          2        3         1          0   \n",
              "1  12250000  8960         4          4        4         1          0   \n",
              "2  12250000  9960         3          2        2         1          0   \n",
              "3  12215000  7500         4          2        2         1          0   \n",
              "4  11410000  7420         4          1        2         1          1   \n",
              "\n",
              "   basement  hotwaterheating  airconditioning  parking  prefarea  \\\n",
              "0         0                0                1        2         1   \n",
              "1         0                0                1        3         0   \n",
              "2         1                0                0        2         1   \n",
              "3         1                0                1        3         1   \n",
              "4         1                0                1        2         0   \n",
              "\n",
              "  furnishingstatus  \n",
              "0        furnished  \n",
              "1        furnished  \n",
              "2   semi-furnished  \n",
              "3        furnished  \n",
              "4        furnished  "
            ],
            "text/html": [
              "\n",
              "  <div id=\"df-fe41f6be-f3f7-456e-b48d-4bb8b525db85\">\n",
              "    <div class=\"colab-df-container\">\n",
              "      <div>\n",
              "<style scoped>\n",
              "    .dataframe tbody tr th:only-of-type {\n",
              "        vertical-align: middle;\n",
              "    }\n",
              "\n",
              "    .dataframe tbody tr th {\n",
              "        vertical-align: top;\n",
              "    }\n",
              "\n",
              "    .dataframe thead th {\n",
              "        text-align: right;\n",
              "    }\n",
              "</style>\n",
              "<table border=\"1\" class=\"dataframe\">\n",
              "  <thead>\n",
              "    <tr style=\"text-align: right;\">\n",
              "      <th></th>\n",
              "      <th>price</th>\n",
              "      <th>area</th>\n",
              "      <th>bedrooms</th>\n",
              "      <th>bathrooms</th>\n",
              "      <th>stories</th>\n",
              "      <th>mainroad</th>\n",
              "      <th>guestroom</th>\n",
              "      <th>basement</th>\n",
              "      <th>hotwaterheating</th>\n",
              "      <th>airconditioning</th>\n",
              "      <th>parking</th>\n",
              "      <th>prefarea</th>\n",
              "      <th>furnishingstatus</th>\n",
              "    </tr>\n",
              "  </thead>\n",
              "  <tbody>\n",
              "    <tr>\n",
              "      <th>0</th>\n",
              "      <td>13300000</td>\n",
              "      <td>7420</td>\n",
              "      <td>4</td>\n",
              "      <td>2</td>\n",
              "      <td>3</td>\n",
              "      <td>1</td>\n",
              "      <td>0</td>\n",
              "      <td>0</td>\n",
              "      <td>0</td>\n",
              "      <td>1</td>\n",
              "      <td>2</td>\n",
              "      <td>1</td>\n",
              "      <td>furnished</td>\n",
              "    </tr>\n",
              "    <tr>\n",
              "      <th>1</th>\n",
              "      <td>12250000</td>\n",
              "      <td>8960</td>\n",
              "      <td>4</td>\n",
              "      <td>4</td>\n",
              "      <td>4</td>\n",
              "      <td>1</td>\n",
              "      <td>0</td>\n",
              "      <td>0</td>\n",
              "      <td>0</td>\n",
              "      <td>1</td>\n",
              "      <td>3</td>\n",
              "      <td>0</td>\n",
              "      <td>furnished</td>\n",
              "    </tr>\n",
              "    <tr>\n",
              "      <th>2</th>\n",
              "      <td>12250000</td>\n",
              "      <td>9960</td>\n",
              "      <td>3</td>\n",
              "      <td>2</td>\n",
              "      <td>2</td>\n",
              "      <td>1</td>\n",
              "      <td>0</td>\n",
              "      <td>1</td>\n",
              "      <td>0</td>\n",
              "      <td>0</td>\n",
              "      <td>2</td>\n",
              "      <td>1</td>\n",
              "      <td>semi-furnished</td>\n",
              "    </tr>\n",
              "    <tr>\n",
              "      <th>3</th>\n",
              "      <td>12215000</td>\n",
              "      <td>7500</td>\n",
              "      <td>4</td>\n",
              "      <td>2</td>\n",
              "      <td>2</td>\n",
              "      <td>1</td>\n",
              "      <td>0</td>\n",
              "      <td>1</td>\n",
              "      <td>0</td>\n",
              "      <td>1</td>\n",
              "      <td>3</td>\n",
              "      <td>1</td>\n",
              "      <td>furnished</td>\n",
              "    </tr>\n",
              "    <tr>\n",
              "      <th>4</th>\n",
              "      <td>11410000</td>\n",
              "      <td>7420</td>\n",
              "      <td>4</td>\n",
              "      <td>1</td>\n",
              "      <td>2</td>\n",
              "      <td>1</td>\n",
              "      <td>1</td>\n",
              "      <td>1</td>\n",
              "      <td>0</td>\n",
              "      <td>1</td>\n",
              "      <td>2</td>\n",
              "      <td>0</td>\n",
              "      <td>furnished</td>\n",
              "    </tr>\n",
              "  </tbody>\n",
              "</table>\n",
              "</div>\n",
              "      <button class=\"colab-df-convert\" onclick=\"convertToInteractive('df-fe41f6be-f3f7-456e-b48d-4bb8b525db85')\"\n",
              "              title=\"Convert this dataframe to an interactive table.\"\n",
              "              style=\"display:none;\">\n",
              "        \n",
              "  <svg xmlns=\"http://www.w3.org/2000/svg\" height=\"24px\"viewBox=\"0 0 24 24\"\n",
              "       width=\"24px\">\n",
              "    <path d=\"M0 0h24v24H0V0z\" fill=\"none\"/>\n",
              "    <path d=\"M18.56 5.44l.94 2.06.94-2.06 2.06-.94-2.06-.94-.94-2.06-.94 2.06-2.06.94zm-11 1L8.5 8.5l.94-2.06 2.06-.94-2.06-.94L8.5 2.5l-.94 2.06-2.06.94zm10 10l.94 2.06.94-2.06 2.06-.94-2.06-.94-.94-2.06-.94 2.06-2.06.94z\"/><path d=\"M17.41 7.96l-1.37-1.37c-.4-.4-.92-.59-1.43-.59-.52 0-1.04.2-1.43.59L10.3 9.45l-7.72 7.72c-.78.78-.78 2.05 0 2.83L4 21.41c.39.39.9.59 1.41.59.51 0 1.02-.2 1.41-.59l7.78-7.78 2.81-2.81c.8-.78.8-2.07 0-2.86zM5.41 20L4 18.59l7.72-7.72 1.47 1.35L5.41 20z\"/>\n",
              "  </svg>\n",
              "      </button>\n",
              "      \n",
              "  <style>\n",
              "    .colab-df-container {\n",
              "      display:flex;\n",
              "      flex-wrap:wrap;\n",
              "      gap: 12px;\n",
              "    }\n",
              "\n",
              "    .colab-df-convert {\n",
              "      background-color: #E8F0FE;\n",
              "      border: none;\n",
              "      border-radius: 50%;\n",
              "      cursor: pointer;\n",
              "      display: none;\n",
              "      fill: #1967D2;\n",
              "      height: 32px;\n",
              "      padding: 0 0 0 0;\n",
              "      width: 32px;\n",
              "    }\n",
              "\n",
              "    .colab-df-convert:hover {\n",
              "      background-color: #E2EBFA;\n",
              "      box-shadow: 0px 1px 2px rgba(60, 64, 67, 0.3), 0px 1px 3px 1px rgba(60, 64, 67, 0.15);\n",
              "      fill: #174EA6;\n",
              "    }\n",
              "\n",
              "    [theme=dark] .colab-df-convert {\n",
              "      background-color: #3B4455;\n",
              "      fill: #D2E3FC;\n",
              "    }\n",
              "\n",
              "    [theme=dark] .colab-df-convert:hover {\n",
              "      background-color: #434B5C;\n",
              "      box-shadow: 0px 1px 3px 1px rgba(0, 0, 0, 0.15);\n",
              "      filter: drop-shadow(0px 1px 2px rgba(0, 0, 0, 0.3));\n",
              "      fill: #FFFFFF;\n",
              "    }\n",
              "  </style>\n",
              "\n",
              "      <script>\n",
              "        const buttonEl =\n",
              "          document.querySelector('#df-fe41f6be-f3f7-456e-b48d-4bb8b525db85 button.colab-df-convert');\n",
              "        buttonEl.style.display =\n",
              "          google.colab.kernel.accessAllowed ? 'block' : 'none';\n",
              "\n",
              "        async function convertToInteractive(key) {\n",
              "          const element = document.querySelector('#df-fe41f6be-f3f7-456e-b48d-4bb8b525db85');\n",
              "          const dataTable =\n",
              "            await google.colab.kernel.invokeFunction('convertToInteractive',\n",
              "                                                     [key], {});\n",
              "          if (!dataTable) return;\n",
              "\n",
              "          const docLinkHtml = 'Like what you see? Visit the ' +\n",
              "            '<a target=\"_blank\" href=https://colab.research.google.com/notebooks/data_table.ipynb>data table notebook</a>'\n",
              "            + ' to learn more about interactive tables.';\n",
              "          element.innerHTML = '';\n",
              "          dataTable['output_type'] = 'display_data';\n",
              "          await google.colab.output.renderOutput(dataTable, element);\n",
              "          const docLink = document.createElement('div');\n",
              "          docLink.innerHTML = docLinkHtml;\n",
              "          element.appendChild(docLink);\n",
              "        }\n",
              "      </script>\n",
              "    </div>\n",
              "  </div>\n",
              "  "
            ]
          },
          "metadata": {},
          "execution_count": 3
        }
      ]
    },
    {
      "cell_type": "code",
      "source": [
        "df = df.drop(labels = \"furnishingstatus\", axis=1)\n",
        "df.head()"
      ],
      "metadata": {
        "colab": {
          "base_uri": "https://localhost:8080/",
          "height": 270
        },
        "id": "tJJSfK0bApK6",
        "outputId": "44169c6b-a5f0-42de-fc6d-09dfbb559ffe"
      },
      "execution_count": 4,
      "outputs": [
        {
          "output_type": "execute_result",
          "data": {
            "text/plain": [
              "      price  area  bedrooms  bathrooms  stories  mainroad  guestroom  \\\n",
              "0  13300000  7420         4          2        3         1          0   \n",
              "1  12250000  8960         4          4        4         1          0   \n",
              "2  12250000  9960         3          2        2         1          0   \n",
              "3  12215000  7500         4          2        2         1          0   \n",
              "4  11410000  7420         4          1        2         1          1   \n",
              "\n",
              "   basement  hotwaterheating  airconditioning  parking  prefarea  \n",
              "0         0                0                1        2         1  \n",
              "1         0                0                1        3         0  \n",
              "2         1                0                0        2         1  \n",
              "3         1                0                1        3         1  \n",
              "4         1                0                1        2         0  "
            ],
            "text/html": [
              "\n",
              "  <div id=\"df-0fe3b73d-6c93-404d-a394-3f6d271332b5\">\n",
              "    <div class=\"colab-df-container\">\n",
              "      <div>\n",
              "<style scoped>\n",
              "    .dataframe tbody tr th:only-of-type {\n",
              "        vertical-align: middle;\n",
              "    }\n",
              "\n",
              "    .dataframe tbody tr th {\n",
              "        vertical-align: top;\n",
              "    }\n",
              "\n",
              "    .dataframe thead th {\n",
              "        text-align: right;\n",
              "    }\n",
              "</style>\n",
              "<table border=\"1\" class=\"dataframe\">\n",
              "  <thead>\n",
              "    <tr style=\"text-align: right;\">\n",
              "      <th></th>\n",
              "      <th>price</th>\n",
              "      <th>area</th>\n",
              "      <th>bedrooms</th>\n",
              "      <th>bathrooms</th>\n",
              "      <th>stories</th>\n",
              "      <th>mainroad</th>\n",
              "      <th>guestroom</th>\n",
              "      <th>basement</th>\n",
              "      <th>hotwaterheating</th>\n",
              "      <th>airconditioning</th>\n",
              "      <th>parking</th>\n",
              "      <th>prefarea</th>\n",
              "    </tr>\n",
              "  </thead>\n",
              "  <tbody>\n",
              "    <tr>\n",
              "      <th>0</th>\n",
              "      <td>13300000</td>\n",
              "      <td>7420</td>\n",
              "      <td>4</td>\n",
              "      <td>2</td>\n",
              "      <td>3</td>\n",
              "      <td>1</td>\n",
              "      <td>0</td>\n",
              "      <td>0</td>\n",
              "      <td>0</td>\n",
              "      <td>1</td>\n",
              "      <td>2</td>\n",
              "      <td>1</td>\n",
              "    </tr>\n",
              "    <tr>\n",
              "      <th>1</th>\n",
              "      <td>12250000</td>\n",
              "      <td>8960</td>\n",
              "      <td>4</td>\n",
              "      <td>4</td>\n",
              "      <td>4</td>\n",
              "      <td>1</td>\n",
              "      <td>0</td>\n",
              "      <td>0</td>\n",
              "      <td>0</td>\n",
              "      <td>1</td>\n",
              "      <td>3</td>\n",
              "      <td>0</td>\n",
              "    </tr>\n",
              "    <tr>\n",
              "      <th>2</th>\n",
              "      <td>12250000</td>\n",
              "      <td>9960</td>\n",
              "      <td>3</td>\n",
              "      <td>2</td>\n",
              "      <td>2</td>\n",
              "      <td>1</td>\n",
              "      <td>0</td>\n",
              "      <td>1</td>\n",
              "      <td>0</td>\n",
              "      <td>0</td>\n",
              "      <td>2</td>\n",
              "      <td>1</td>\n",
              "    </tr>\n",
              "    <tr>\n",
              "      <th>3</th>\n",
              "      <td>12215000</td>\n",
              "      <td>7500</td>\n",
              "      <td>4</td>\n",
              "      <td>2</td>\n",
              "      <td>2</td>\n",
              "      <td>1</td>\n",
              "      <td>0</td>\n",
              "      <td>1</td>\n",
              "      <td>0</td>\n",
              "      <td>1</td>\n",
              "      <td>3</td>\n",
              "      <td>1</td>\n",
              "    </tr>\n",
              "    <tr>\n",
              "      <th>4</th>\n",
              "      <td>11410000</td>\n",
              "      <td>7420</td>\n",
              "      <td>4</td>\n",
              "      <td>1</td>\n",
              "      <td>2</td>\n",
              "      <td>1</td>\n",
              "      <td>1</td>\n",
              "      <td>1</td>\n",
              "      <td>0</td>\n",
              "      <td>1</td>\n",
              "      <td>2</td>\n",
              "      <td>0</td>\n",
              "    </tr>\n",
              "  </tbody>\n",
              "</table>\n",
              "</div>\n",
              "      <button class=\"colab-df-convert\" onclick=\"convertToInteractive('df-0fe3b73d-6c93-404d-a394-3f6d271332b5')\"\n",
              "              title=\"Convert this dataframe to an interactive table.\"\n",
              "              style=\"display:none;\">\n",
              "        \n",
              "  <svg xmlns=\"http://www.w3.org/2000/svg\" height=\"24px\"viewBox=\"0 0 24 24\"\n",
              "       width=\"24px\">\n",
              "    <path d=\"M0 0h24v24H0V0z\" fill=\"none\"/>\n",
              "    <path d=\"M18.56 5.44l.94 2.06.94-2.06 2.06-.94-2.06-.94-.94-2.06-.94 2.06-2.06.94zm-11 1L8.5 8.5l.94-2.06 2.06-.94-2.06-.94L8.5 2.5l-.94 2.06-2.06.94zm10 10l.94 2.06.94-2.06 2.06-.94-2.06-.94-.94-2.06-.94 2.06-2.06.94z\"/><path d=\"M17.41 7.96l-1.37-1.37c-.4-.4-.92-.59-1.43-.59-.52 0-1.04.2-1.43.59L10.3 9.45l-7.72 7.72c-.78.78-.78 2.05 0 2.83L4 21.41c.39.39.9.59 1.41.59.51 0 1.02-.2 1.41-.59l7.78-7.78 2.81-2.81c.8-.78.8-2.07 0-2.86zM5.41 20L4 18.59l7.72-7.72 1.47 1.35L5.41 20z\"/>\n",
              "  </svg>\n",
              "      </button>\n",
              "      \n",
              "  <style>\n",
              "    .colab-df-container {\n",
              "      display:flex;\n",
              "      flex-wrap:wrap;\n",
              "      gap: 12px;\n",
              "    }\n",
              "\n",
              "    .colab-df-convert {\n",
              "      background-color: #E8F0FE;\n",
              "      border: none;\n",
              "      border-radius: 50%;\n",
              "      cursor: pointer;\n",
              "      display: none;\n",
              "      fill: #1967D2;\n",
              "      height: 32px;\n",
              "      padding: 0 0 0 0;\n",
              "      width: 32px;\n",
              "    }\n",
              "\n",
              "    .colab-df-convert:hover {\n",
              "      background-color: #E2EBFA;\n",
              "      box-shadow: 0px 1px 2px rgba(60, 64, 67, 0.3), 0px 1px 3px 1px rgba(60, 64, 67, 0.15);\n",
              "      fill: #174EA6;\n",
              "    }\n",
              "\n",
              "    [theme=dark] .colab-df-convert {\n",
              "      background-color: #3B4455;\n",
              "      fill: #D2E3FC;\n",
              "    }\n",
              "\n",
              "    [theme=dark] .colab-df-convert:hover {\n",
              "      background-color: #434B5C;\n",
              "      box-shadow: 0px 1px 3px 1px rgba(0, 0, 0, 0.15);\n",
              "      filter: drop-shadow(0px 1px 2px rgba(0, 0, 0, 0.3));\n",
              "      fill: #FFFFFF;\n",
              "    }\n",
              "  </style>\n",
              "\n",
              "      <script>\n",
              "        const buttonEl =\n",
              "          document.querySelector('#df-0fe3b73d-6c93-404d-a394-3f6d271332b5 button.colab-df-convert');\n",
              "        buttonEl.style.display =\n",
              "          google.colab.kernel.accessAllowed ? 'block' : 'none';\n",
              "\n",
              "        async function convertToInteractive(key) {\n",
              "          const element = document.querySelector('#df-0fe3b73d-6c93-404d-a394-3f6d271332b5');\n",
              "          const dataTable =\n",
              "            await google.colab.kernel.invokeFunction('convertToInteractive',\n",
              "                                                     [key], {});\n",
              "          if (!dataTable) return;\n",
              "\n",
              "          const docLinkHtml = 'Like what you see? Visit the ' +\n",
              "            '<a target=\"_blank\" href=https://colab.research.google.com/notebooks/data_table.ipynb>data table notebook</a>'\n",
              "            + ' to learn more about interactive tables.';\n",
              "          element.innerHTML = '';\n",
              "          dataTable['output_type'] = 'display_data';\n",
              "          await google.colab.output.renderOutput(dataTable, element);\n",
              "          const docLink = document.createElement('div');\n",
              "          docLink.innerHTML = docLinkHtml;\n",
              "          element.appendChild(docLink);\n",
              "        }\n",
              "      </script>\n",
              "    </div>\n",
              "  </div>\n",
              "  "
            ]
          },
          "metadata": {},
          "execution_count": 4
        }
      ]
    },
    {
      "cell_type": "code",
      "source": [
        "z= df.iloc[:,0:12]  # get input values from first column \n",
        "#y = df.iloc[:, 0]  # get output values from second column \n",
        "m = len(z) # Number of training examples \n",
        "print('Z = ', z[:10]) # Show only first 5 records \n",
        "#print('y = ', y[:10]) \n",
        "print('m = ', m) \n",
        "z.shape"
      ],
      "metadata": {
        "colab": {
          "base_uri": "https://localhost:8080/"
        },
        "id": "1IsgA9cQApN-",
        "outputId": "ab3de5bb-d7c9-472b-cef3-d261235fe8e8"
      },
      "execution_count": 5,
      "outputs": [
        {
          "output_type": "stream",
          "name": "stdout",
          "text": [
            "Z =        price   area  bedrooms  bathrooms  stories  mainroad  guestroom  \\\n",
            "0  13300000   7420         4          2        3         1          0   \n",
            "1  12250000   8960         4          4        4         1          0   \n",
            "2  12250000   9960         3          2        2         1          0   \n",
            "3  12215000   7500         4          2        2         1          0   \n",
            "4  11410000   7420         4          1        2         1          1   \n",
            "5  10850000   7500         3          3        1         1          0   \n",
            "6  10150000   8580         4          3        4         1          0   \n",
            "7  10150000  16200         5          3        2         1          0   \n",
            "8   9870000   8100         4          1        2         1          1   \n",
            "9   9800000   5750         3          2        4         1          1   \n",
            "\n",
            "   basement  hotwaterheating  airconditioning  parking  prefarea  \n",
            "0         0                0                1        2         1  \n",
            "1         0                0                1        3         0  \n",
            "2         1                0                0        2         1  \n",
            "3         1                0                1        3         1  \n",
            "4         1                0                1        2         0  \n",
            "5         1                0                1        2         1  \n",
            "6         0                0                1        2         1  \n",
            "7         0                0                0        0         0  \n",
            "8         1                0                1        2         1  \n",
            "9         0                0                1        1         1  \n",
            "m =  545\n"
          ]
        },
        {
          "output_type": "execute_result",
          "data": {
            "text/plain": [
              "(545, 12)"
            ]
          },
          "metadata": {},
          "execution_count": 5
        }
      ]
    },
    {
      "cell_type": "code",
      "source": [
        "# using the train test split function\n",
        "z_train, z_test = train_test_split(z, random_state = 0, train_size = .8)\n",
        "\n",
        "print(f\"No. of training examples: {z_train.shape[0]}\")\n",
        "print(f\"No. of testing examples: {z_test.shape[0]}\")\n",
        "\n",
        "#print(f\"No. of training examples: {y_train.shape[0]}\")\n",
        "#print(f\"No. of testing examples: {y_test.shape[0]}\")"
      ],
      "metadata": {
        "colab": {
          "base_uri": "https://localhost:8080/"
        },
        "id": "ZIS3JBF4A4qZ",
        "outputId": "802aa895-9865-4788-b407-f6240a44340a"
      },
      "execution_count": 6,
      "outputs": [
        {
          "output_type": "stream",
          "name": "stdout",
          "text": [
            "No. of training examples: 436\n",
            "No. of testing examples: 109\n"
          ]
        }
      ]
    },
    {
      "cell_type": "code",
      "source": [
        "import warnings\n",
        "warnings. filterwarnings( 'ignore' )\n",
        "from sklearn. preprocessing import MinMaxScaler, StandardScaler\n",
        "\n",
        "#scaler = StandardScaler()\n",
        "\n",
        "scaler = MinMaxScaler()\n",
        "z_train= scaler.fit_transform(z_train)\n",
        "z_test= scaler.fit_transform(z_test)\n",
        "print('z_train = ', z_train[:10]) # Show only first 5 records \n",
        "print('z_test = ', z_test[:10]) "
      ],
      "metadata": {
        "colab": {
          "base_uri": "https://localhost:8080/"
        },
        "id": "aTwmNLlyA4ta",
        "outputId": "961b6892-150a-475f-dfc0-1dbb18dafad1"
      },
      "execution_count": 7,
      "outputs": [
        {
          "output_type": "stream",
          "name": "stdout",
          "text": [
            "z_train =  [[0.         0.12419939 0.2        0.         0.         1.\n",
            "  0.         0.         0.         0.         0.         0.        ]\n",
            " [0.08181818 0.15065441 0.2        0.         0.         1.\n",
            "  0.         0.         0.         0.         0.         0.        ]\n",
            " [0.0969697  0.08382066 0.2        0.         0.         0.\n",
            "  0.         0.         0.         0.         0.         0.        ]\n",
            " [0.07272727 0.12280702 0.2        0.         0.         1.\n",
            "  0.         0.         0.         0.         0.         0.        ]\n",
            " [0.23939394 0.55861877 0.4        0.         0.         1.\n",
            "  0.         0.         0.         0.         0.         0.        ]\n",
            " [0.23030303 0.14842662 0.4        0.         0.33333333 0.\n",
            "  0.         0.         0.         0.         0.         0.        ]\n",
            " [0.24545455 0.13951546 0.4        0.         0.33333333 1.\n",
            "  0.         0.         0.         0.         0.33333333 1.        ]\n",
            " [0.3030303  0.55444166 0.6        0.5        0.33333333 1.\n",
            "  1.         0.         0.         0.         0.66666667 0.        ]\n",
            " [0.15757576 0.12559176 0.2        0.         0.         1.\n",
            "  0.         0.         0.         0.         0.         0.        ]\n",
            " [0.16363636 0.11723754 0.2        0.5        0.         1.\n",
            "  0.         1.         0.         0.         0.         0.        ]]\n",
            "z_test =  [[0.27       0.2034632  0.5        0.         0.33333333 1.\n",
            "  0.         0.         0.         0.         0.33333333 0.        ]\n",
            " [0.41266667 0.69004329 0.5        0.         0.         1.\n",
            "  0.         1.         0.         0.         0.66666667 1.        ]\n",
            " [0.215      0.15670996 0.75       0.         0.33333333 1.\n",
            "  0.         0.         0.         1.         0.         0.        ]\n",
            " [0.49333333 1.         0.25       0.         0.         1.\n",
            "  0.         1.         1.         0.         0.33333333 0.        ]\n",
            " [0.11333333 0.17402597 0.75       0.         0.33333333 0.\n",
            "  0.         0.         0.         0.         0.         0.        ]\n",
            " [0.42333333 0.40692641 0.5        0.33333333 0.66666667 1.\n",
            "  1.         0.         0.         1.         0.         0.        ]\n",
            " [0.17       0.19047619 0.5        0.         0.         1.\n",
            "  0.         0.         0.         0.         0.66666667 0.        ]\n",
            " [0.11333333 0.15844156 0.5        0.         0.33333333 0.\n",
            "  0.         0.         0.         0.         0.33333333 0.        ]\n",
            " [0.16666667 0.16121212 0.25       0.         0.         1.\n",
            "  0.         0.         0.         0.         0.33333333 1.        ]\n",
            " [0.59333333 0.63636364 0.75       0.33333333 1.         1.\n",
            "  0.         0.         0.         1.         0.66666667 0.        ]]\n"
          ]
        }
      ]
    },
    {
      "cell_type": "code",
      "source": [
        "X_train= z_train[:,1:12]  # get input values from first column \n",
        "y_train =z_train[:, 0]  # get output values from second column \n",
        "X_test= z_test[:,1:12]  # get input values from first column \n",
        "y_test =z_test[:, 0]  # get output values from second column \n",
        "\n",
        "print('X = ', X_train[:10]) # Show only first 5 records \n",
        "print('y ', y_train[:10]) \n",
        "X_train.shape"
      ],
      "metadata": {
        "colab": {
          "base_uri": "https://localhost:8080/"
        },
        "id": "DBA_Aq2iA4wY",
        "outputId": "a95f4225-1b10-4dfd-ec99-3ef5418ab7a2"
      },
      "execution_count": 8,
      "outputs": [
        {
          "output_type": "stream",
          "name": "stdout",
          "text": [
            "X =  [[0.12419939 0.2        0.         0.         1.         0.\n",
            "  0.         0.         0.         0.         0.        ]\n",
            " [0.15065441 0.2        0.         0.         1.         0.\n",
            "  0.         0.         0.         0.         0.        ]\n",
            " [0.08382066 0.2        0.         0.         0.         0.\n",
            "  0.         0.         0.         0.         0.        ]\n",
            " [0.12280702 0.2        0.         0.         1.         0.\n",
            "  0.         0.         0.         0.         0.        ]\n",
            " [0.55861877 0.4        0.         0.         1.         0.\n",
            "  0.         0.         0.         0.         0.        ]\n",
            " [0.14842662 0.4        0.         0.33333333 0.         0.\n",
            "  0.         0.         0.         0.         0.        ]\n",
            " [0.13951546 0.4        0.         0.33333333 1.         0.\n",
            "  0.         0.         0.         0.33333333 1.        ]\n",
            " [0.55444166 0.6        0.5        0.33333333 1.         1.\n",
            "  0.         0.         0.         0.66666667 0.        ]\n",
            " [0.12559176 0.2        0.         0.         1.         0.\n",
            "  0.         0.         0.         0.         0.        ]\n",
            " [0.11723754 0.2        0.5        0.         1.         0.\n",
            "  1.         0.         0.         0.         0.        ]]\n",
            "y  [0.         0.08181818 0.0969697  0.07272727 0.23939394 0.23030303\n",
            " 0.24545455 0.3030303  0.15757576 0.16363636]\n"
          ]
        },
        {
          "output_type": "execute_result",
          "data": {
            "text/plain": [
              "(436, 11)"
            ]
          },
          "metadata": {},
          "execution_count": 8
        }
      ]
    },
    {
      "cell_type": "code",
      "source": [
        "#Lets create a matrix with single column of ones \n",
        "X_0 = np.ones((436, 1)) \n",
        "X_2 = np.ones((109,1))"
      ],
      "metadata": {
        "id": "u5bLcCp0A4zN"
      },
      "execution_count": 9,
      "outputs": []
    },
    {
      "cell_type": "code",
      "source": [
        "# Using reshape function convert X 1D array to 2D array of dimension 100X1 \n",
        "X_1 = X_train.reshape(436,11) \n",
        "X_3 = X_test.reshape(109,11)\n",
        "X_1[:10] \n",
        "X_3[:10]"
      ],
      "metadata": {
        "colab": {
          "base_uri": "https://localhost:8080/"
        },
        "id": "45MxC1z7A41b",
        "outputId": "2c3653eb-6a3d-4b50-cedb-8b5a058a4866"
      },
      "execution_count": 10,
      "outputs": [
        {
          "output_type": "execute_result",
          "data": {
            "text/plain": [
              "array([[0.2034632 , 0.5       , 0.        , 0.33333333, 1.        ,\n",
              "        0.        , 0.        , 0.        , 0.        , 0.33333333,\n",
              "        0.        ],\n",
              "       [0.69004329, 0.5       , 0.        , 0.        , 1.        ,\n",
              "        0.        , 1.        , 0.        , 0.        , 0.66666667,\n",
              "        1.        ],\n",
              "       [0.15670996, 0.75      , 0.        , 0.33333333, 1.        ,\n",
              "        0.        , 0.        , 0.        , 1.        , 0.        ,\n",
              "        0.        ],\n",
              "       [1.        , 0.25      , 0.        , 0.        , 1.        ,\n",
              "        0.        , 1.        , 1.        , 0.        , 0.33333333,\n",
              "        0.        ],\n",
              "       [0.17402597, 0.75      , 0.        , 0.33333333, 0.        ,\n",
              "        0.        , 0.        , 0.        , 0.        , 0.        ,\n",
              "        0.        ],\n",
              "       [0.40692641, 0.5       , 0.33333333, 0.66666667, 1.        ,\n",
              "        1.        , 0.        , 0.        , 1.        , 0.        ,\n",
              "        0.        ],\n",
              "       [0.19047619, 0.5       , 0.        , 0.        , 1.        ,\n",
              "        0.        , 0.        , 0.        , 0.        , 0.66666667,\n",
              "        0.        ],\n",
              "       [0.15844156, 0.5       , 0.        , 0.33333333, 0.        ,\n",
              "        0.        , 0.        , 0.        , 0.        , 0.33333333,\n",
              "        0.        ],\n",
              "       [0.16121212, 0.25      , 0.        , 0.        , 1.        ,\n",
              "        0.        , 0.        , 0.        , 0.        , 0.33333333,\n",
              "        1.        ],\n",
              "       [0.63636364, 0.75      , 0.33333333, 1.        , 1.        ,\n",
              "        0.        , 0.        , 0.        , 1.        , 0.66666667,\n",
              "        0.        ]])"
            ]
          },
          "metadata": {},
          "execution_count": 10
        }
      ]
    },
    {
      "cell_type": "code",
      "source": [
        "# Lets use hstack() function from numpy to stack X_0 and X_1 horizontally (i.e. column \n",
        "# This will be our final X matrix (feature matrix) \n",
        "X_train = np.hstack((X_0, X_1)) \n",
        "X_test = np.hstack((X_2, X_3))"
      ],
      "metadata": {
        "id": "pDtUI56jBGyU"
      },
      "execution_count": 11,
      "outputs": []
    },
    {
      "cell_type": "code",
      "source": [
        "theta = np.zeros(12) \n",
        "theta"
      ],
      "metadata": {
        "colab": {
          "base_uri": "https://localhost:8080/"
        },
        "id": "KANIGzoaBG1i",
        "outputId": "da0d4f37-fd26-48df-9291-bfbbdc614360"
      },
      "execution_count": 12,
      "outputs": [
        {
          "output_type": "execute_result",
          "data": {
            "text/plain": [
              "array([0., 0., 0., 0., 0., 0., 0., 0., 0., 0., 0., 0.])"
            ]
          },
          "metadata": {},
          "execution_count": 12
        }
      ]
    },
    {
      "cell_type": "code",
      "source": [
        "def compute_cost(X, y, theta): \n",
        "  \"\"\" \n",
        "  Compute cost for linear regression. \n",
        " \n",
        "  Input Parameters \n",
        "  ---------------- \n",
        "  X : 2D array where each row represent the training example and each column represent \n",
        "      m= number of training examples \n",
        "      n= number of features (including X_0 column of ones) \n",
        "  y : 1D array of labels/target value for each traing example. dimension(1 x m) \n",
        " \n",
        "  theta : 1D array of fitting parameters or weights. Dimension (1 x n) \n",
        " \n",
        "  Output Parameters \n",
        "  ----------------- \n",
        "  J : Scalar value. \n",
        "  \"\"\" \n",
        "  predictions = X.dot(theta) \n",
        "  errors = np.subtract(predictions, y) \n",
        "  sqrErrors = np.square(errors) \n",
        "  J = 1 / (2 * m) * np.sum(sqrErrors) \n",
        " \n",
        "  return J "
      ],
      "metadata": {
        "id": "KPqnIGZ9BG4y"
      },
      "execution_count": 13,
      "outputs": []
    },
    {
      "cell_type": "code",
      "source": [
        "# Lets compute the cost for theta values \n",
        "cost = compute_cost(X_train, y_train, theta) \n",
        "print('The cost for given values of theta_0 =',cost) "
      ],
      "metadata": {
        "colab": {
          "base_uri": "https://localhost:8080/"
        },
        "id": "Foqcb9jTBNjj",
        "outputId": "6efa6647-71d6-4abd-d7fb-961917b940f3"
      },
      "execution_count": 14,
      "outputs": [
        {
          "output_type": "stream",
          "name": "stdout",
          "text": [
            "The cost for given values of theta_0 = 0.03841234407170959\n"
          ]
        }
      ]
    },
    {
      "cell_type": "code",
      "source": [
        "def gradient_descent(X, X1, y, y1, theta, alpha, iterations): \n",
        "  \"\"\" \n",
        "  Compute cost for linear regression. \n",
        " \n",
        "  Input Parameters \n",
        "  ---------------- \n",
        "  X : 2D array where each row represent the training example and each column represent \n",
        "      m= number of training examples \n",
        "      n= number of features (including X_0 column of ones) \n",
        "  y : 1D array of labels/target value for each traing example. dimension(m x 1) \n",
        "  theta : 1D array of fitting parameters or weights. Dimension (1 x n) \n",
        "  alpha : Learning rate. Scalar value \n",
        "  iterations: No of iterations. Scalar value.  \n",
        " \n",
        "  Output Parameters \n",
        "  ----------------- \n",
        "  theta : Final Value. 1D array of fitting parameters or weights. Dimension (1 x n) \n",
        "  cost_history: Conatins value of cost for each iteration. 1D array. Dimansion(m x 1)\n",
        "  ef gradient_descent(X, y, theta, alpha, iterations): \n",
        "  \"\"\" \n",
        "  cost_history = np.zeros(iterations) \n",
        "  cost_history2 = np.zeros(iterations) \n",
        "  lmbda_value = 1;\n",
        "\n",
        "\n",
        "  for i in range(iterations): \n",
        "    predictions = X.dot(theta) \n",
        "    errors = np.subtract(predictions, y) \n",
        "    sum_delta = (1 /m) * (X.transpose().dot(errors) + lmbda_value *theta) ; \n",
        "    theta= theta - alpha*sum_delta; \n",
        "    cost_history[i] = compute_cost(X, y, theta)\n",
        "    cost_history2[i] = compute_cost(X1, y1, theta) \n",
        " \n",
        "  return theta, cost_history , cost_history2"
      ],
      "metadata": {
        "id": "aNUSqaiyBSG5"
      },
      "execution_count": 15,
      "outputs": []
    },
    {
      "cell_type": "code",
      "source": [
        "theta = [0.,0.,0.,0.,0.,0.,0.,0.,0.,0.,0.,0.] \n",
        "iterations = 100; \n",
        "alpha =0.01;"
      ],
      "metadata": {
        "id": "M4c098nwBUMX"
      },
      "execution_count": 16,
      "outputs": []
    },
    {
      "cell_type": "code",
      "source": [
        "theta, cost_history_a, cost_history_a2 = gradient_descent(X_train, X_test, y_train, y_test, theta, alpha, iterations) \n",
        "print('Final value of theta =', theta) \n",
        "print('cost_history =', cost_history_a[-1],cost_history_a2[-1]) "
      ],
      "metadata": {
        "colab": {
          "base_uri": "https://localhost:8080/"
        },
        "id": "1-ujpb1cBUQR",
        "outputId": "da795cb6-224a-4265-f5d8-9d1e77a00123"
      },
      "execution_count": 17,
      "outputs": [
        {
          "output_type": "stream",
          "name": "stdout",
          "text": [
            "Final value of theta = [0.08544417 0.02795822 0.03935654 0.02535429 0.0354823  0.07978388\n",
            " 0.02421853 0.03518121 0.00660238 0.04653294 0.03092654 0.03501885]\n",
            "cost_history = 0.006845848184579228 0.0018557576759905732\n"
          ]
        }
      ]
    },
    {
      "cell_type": "code",
      "source": [
        "plt.plot(range(1, iterations + 1),cost_history_a, color='blue') \n",
        "plt.plot(range(1, iterations + 1),cost_history_a2, color='green') \n",
        "plt.rcParams[\"figure.figsize\"] = (10,6) \n",
        "plt.grid() \n",
        "plt.xlabel('Number of iterations') \n",
        "plt.ylabel('Cost (J)') \n",
        "plt.title('Convergence of gradient descent') "
      ],
      "metadata": {
        "colab": {
          "base_uri": "https://localhost:8080/",
          "height": 313
        },
        "id": "HMoKStRSBUVU",
        "outputId": "83e7d375-f2d3-4b6e-ef9c-0d5b07ebca66"
      },
      "execution_count": 18,
      "outputs": [
        {
          "output_type": "execute_result",
          "data": {
            "text/plain": [
              "Text(0.5, 1.0, 'Convergence of gradient descent')"
            ]
          },
          "metadata": {},
          "execution_count": 18
        },
        {
          "output_type": "display_data",
          "data": {
            "text/plain": [
              "<Figure size 432x288 with 1 Axes>"
            ],
            "image/png": "[encoded data removed]"
          },
          "metadata": {
            "needs_background": "light"
          }
        }
      ]
    }
  ]
}